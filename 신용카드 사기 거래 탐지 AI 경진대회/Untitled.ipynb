{
 "cells": [
  {
   "cell_type": "markdown",
   "id": "0d794896-9097-456d-b563-d441f0d584f4",
   "metadata": {},
   "source": [
    "# <span style=\"font-family:AppleGothic; font-weight:bolder\"><a href=\"https://dacon.io/competitions/official/235930/overview/description\">💳 신용카드 사기 거래 탐지 AI 경진대회</a></span>"
   ]
  },
  {
   "cell_type": "markdown",
   "id": "ad0667b9-f6c0-4b91-8a87-5f2731a9362e",
   "metadata": {},
   "source": [
    "- 비식별화된 신용카드 거래 데이터로부터 사기 거래를 탐지하는 AI 솔루션 개발\n",
    "\n",
    "- 평가 산식 : macro f1-score"
   ]
  },
  {
   "cell_type": "code",
   "execution_count": null,
   "id": "4f8ec938-19b6-4123-886b-346a06d6ea28",
   "metadata": {},
   "outputs": [],
   "source": []
  }
 ],
 "metadata": {
  "kernelspec": {
   "display_name": "Python 3 (ipykernel)",
   "language": "python",
   "name": "python3"
  },
  "language_info": {
   "codemirror_mode": {
    "name": "ipython",
    "version": 3
   },
   "file_extension": ".py",
   "mimetype": "text/x-python",
   "name": "python",
   "nbconvert_exporter": "python",
   "pygments_lexer": "ipython3",
   "version": "3.8.12"
  }
 },
 "nbformat": 4,
 "nbformat_minor": 5
}
