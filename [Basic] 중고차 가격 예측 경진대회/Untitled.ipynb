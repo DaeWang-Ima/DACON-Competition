{
 "cells": [
  {
   "cell_type": "code",
   "execution_count": 1,
   "id": "99617622-98d4-4386-afc8-4e5f1963a237",
   "metadata": {},
   "outputs": [
    {
     "name": "stdout",
     "output_type": "stream",
     "text": [
      "Python 3.8.12\n"
     ]
    }
   ],
   "source": [
    "!python --version"
   ]
  },
  {
   "cell_type": "markdown",
   "id": "417212dc-f633-479c-99d3-939318d2b54a",
   "metadata": {},
   "source": [
    "# <span style=\"font-family:AppleGothic; font-weight:bolder\"><a href=\"https://dacon.io/competitions/official/235901/overview/description\">🚙 DACON-중고차 가격 예측 경진대회</a></span>\n",
    "\n",
    "<span style=\"font-family:AppleGothic; font-weight: bolder;\">Data Description</span>\n",
    "\n",
    "- **id** : 샘플 아이디\n",
    "\n",
    "- **title** : 제조사 모델명\n",
    "\n",
    "- **odometer** : 주행 거리\n",
    "\n",
    "- **location** : 판매처(나이지리아 도시)\n",
    "\n",
    "- **isimported** : 현지 사용 여부\n",
    "\n",
    "- **engine** : 엔진 종류\n",
    "\n",
    "- **transmission** : 트랜스미션 종류\n",
    "\n",
    "- **fuel** : 연료 종류\n",
    "\n",
    "- **paint** : 페인트 색상\n",
    "\n",
    "- **year** : 제조년도\n",
    "\n",
    "- **target** : 자동차 가격"
   ]
  },
  {
   "cell_type": "code",
   "execution_count": 2,
   "id": "a872de78-16f6-4f49-9d2e-e9cc02a3776e",
   "metadata": {},
   "outputs": [],
   "source": [
    "# 라이브러리 불러오기\n",
    "import os\n",
    "import platform\n",
    "\n",
    "import re\n",
    "\n",
    "import warnings\n",
    "warnings.filterwarnings(action = \"ignore\")\n",
    "\n",
    "import pandas as pd\n",
    "import numpy as np\n",
    "\n",
    "import matplotlib.pyplot as plt\n",
    "import missingno as msno\n",
    "import seaborn as sns\n",
    "%matplotlib inline"
   ]
  },
  {
   "cell_type": "code",
   "execution_count": 3,
   "id": "e6969f3c-5efd-4b0e-94bd-4c5fd9603ed0",
   "metadata": {},
   "outputs": [],
   "source": [
    "# 옵션 지정\n",
    "if platform.system() == \"Windows\":\n",
    "    plt.rcParams[\"font.family\"] = \"Malgun Gothic\"\n",
    "else:\n",
    "    plt.rcParams[\"font.family\"] = \"AppleGothic\"\n",
    "\n",
    "plt.rcParams[\"axes.unicode_minus\"] = False\n",
    "pd.set_option(\"display.max_columns\", None)"
   ]
  },
  {
   "cell_type": "markdown",
   "id": "94440f23-4631-4534-a542-3c454798f10e",
   "metadata": {},
   "source": [
    "# <span style=\"color:Brown; font-family:AppleGothic; font-weight:bolder\">1. Data load</span>"
   ]
  },
  {
   "cell_type": "markdown",
   "id": "9719fb09-64e7-447b-b2a7-cba27a63f378",
   "metadata": {},
   "source": [
    "---"
   ]
  },
  {
   "cell_type": "code",
   "execution_count": 4,
   "id": "41fff4ba-f7fe-47ef-9891-8764b98bedb0",
   "metadata": {},
   "outputs": [
    {
     "name": "stdout",
     "output_type": "stream",
     "text": [
      "Shape of train data : (1015, 11) \n",
      "\n",
      "Shape of test data : (436, 10) \n",
      "\n"
     ]
    },
    {
     "data": {
      "text/html": [
       "<div>\n",
       "<style scoped>\n",
       "    .dataframe tbody tr th:only-of-type {\n",
       "        vertical-align: middle;\n",
       "    }\n",
       "\n",
       "    .dataframe tbody tr th {\n",
       "        vertical-align: top;\n",
       "    }\n",
       "\n",
       "    .dataframe thead th {\n",
       "        text-align: right;\n",
       "    }\n",
       "</style>\n",
       "<table border=\"1\" class=\"dataframe\">\n",
       "  <thead>\n",
       "    <tr style=\"text-align: right;\">\n",
       "      <th></th>\n",
       "      <th>id</th>\n",
       "      <th>title</th>\n",
       "      <th>odometer</th>\n",
       "      <th>location</th>\n",
       "      <th>isimported</th>\n",
       "      <th>engine</th>\n",
       "      <th>transmission</th>\n",
       "      <th>fuel</th>\n",
       "      <th>paint</th>\n",
       "      <th>year</th>\n",
       "      <th>target</th>\n",
       "    </tr>\n",
       "  </thead>\n",
       "  <tbody>\n",
       "    <tr>\n",
       "      <th>0</th>\n",
       "      <td>0</td>\n",
       "      <td>Toyota RAV 4</td>\n",
       "      <td>18277</td>\n",
       "      <td>Lagos</td>\n",
       "      <td>Foreign Used</td>\n",
       "      <td>4-cylinder(I4)</td>\n",
       "      <td>automatic</td>\n",
       "      <td>petrol</td>\n",
       "      <td>Red</td>\n",
       "      <td>2016</td>\n",
       "      <td>13665000</td>\n",
       "    </tr>\n",
       "    <tr>\n",
       "      <th>1</th>\n",
       "      <td>1</td>\n",
       "      <td>Toyota Land Cruiser</td>\n",
       "      <td>10</td>\n",
       "      <td>Lagos</td>\n",
       "      <td>New</td>\n",
       "      <td>4-cylinder(I4)</td>\n",
       "      <td>automatic</td>\n",
       "      <td>petrol</td>\n",
       "      <td>Black</td>\n",
       "      <td>2019</td>\n",
       "      <td>33015000</td>\n",
       "    </tr>\n",
       "    <tr>\n",
       "      <th>2</th>\n",
       "      <td>2</td>\n",
       "      <td>Land Rover Range Rover Evoque</td>\n",
       "      <td>83091</td>\n",
       "      <td>Lagos</td>\n",
       "      <td>Foreign Used</td>\n",
       "      <td>6-cylinder(V6)</td>\n",
       "      <td>automatic</td>\n",
       "      <td>petrol</td>\n",
       "      <td>Red</td>\n",
       "      <td>2012</td>\n",
       "      <td>9915000</td>\n",
       "    </tr>\n",
       "    <tr>\n",
       "      <th>3</th>\n",
       "      <td>3</td>\n",
       "      <td>Lexus ES 350</td>\n",
       "      <td>91524</td>\n",
       "      <td>Lagos</td>\n",
       "      <td>Foreign Used</td>\n",
       "      <td>4-cylinder(I4)</td>\n",
       "      <td>automatic</td>\n",
       "      <td>petrol</td>\n",
       "      <td>Gray</td>\n",
       "      <td>2007</td>\n",
       "      <td>3815000</td>\n",
       "    </tr>\n",
       "    <tr>\n",
       "      <th>4</th>\n",
       "      <td>4</td>\n",
       "      <td>Toyota Venza</td>\n",
       "      <td>94177</td>\n",
       "      <td>Lagos</td>\n",
       "      <td>Foreign Used</td>\n",
       "      <td>6-cylinder(V6)</td>\n",
       "      <td>automatic</td>\n",
       "      <td>petrol</td>\n",
       "      <td>Red</td>\n",
       "      <td>2010</td>\n",
       "      <td>7385000</td>\n",
       "    </tr>\n",
       "  </tbody>\n",
       "</table>\n",
       "</div>"
      ],
      "text/plain": [
       "   id                          title  odometer location    isimported  \\\n",
       "0   0                   Toyota RAV 4     18277   Lagos   Foreign Used   \n",
       "1   1            Toyota Land Cruiser        10    Lagos          New    \n",
       "2   2  Land Rover Range Rover Evoque     83091    Lagos  Foreign Used   \n",
       "3   3                   Lexus ES 350     91524    Lagos  Foreign Used   \n",
       "4   4                   Toyota Venza     94177    Lagos  Foreign Used   \n",
       "\n",
       "           engine transmission    fuel  paint  year    target  \n",
       "0  4-cylinder(I4)    automatic  petrol    Red  2016  13665000  \n",
       "1  4-cylinder(I4)    automatic  petrol  Black  2019  33015000  \n",
       "2  6-cylinder(V6)    automatic  petrol    Red  2012   9915000  \n",
       "3  4-cylinder(I4)    automatic  petrol   Gray  2007   3815000  \n",
       "4  6-cylinder(V6)    automatic  petrol    Red  2010   7385000  "
      ]
     },
     "metadata": {},
     "output_type": "display_data"
    },
    {
     "data": {
      "text/html": [
       "<div>\n",
       "<style scoped>\n",
       "    .dataframe tbody tr th:only-of-type {\n",
       "        vertical-align: middle;\n",
       "    }\n",
       "\n",
       "    .dataframe tbody tr th {\n",
       "        vertical-align: top;\n",
       "    }\n",
       "\n",
       "    .dataframe thead th {\n",
       "        text-align: right;\n",
       "    }\n",
       "</style>\n",
       "<table border=\"1\" class=\"dataframe\">\n",
       "  <thead>\n",
       "    <tr style=\"text-align: right;\">\n",
       "      <th></th>\n",
       "      <th>id</th>\n",
       "      <th>title</th>\n",
       "      <th>odometer</th>\n",
       "      <th>location</th>\n",
       "      <th>isimported</th>\n",
       "      <th>engine</th>\n",
       "      <th>transmission</th>\n",
       "      <th>fuel</th>\n",
       "      <th>paint</th>\n",
       "      <th>year</th>\n",
       "    </tr>\n",
       "  </thead>\n",
       "  <tbody>\n",
       "    <tr>\n",
       "      <th>0</th>\n",
       "      <td>0</td>\n",
       "      <td>Mercedes-Benz C 300</td>\n",
       "      <td>1234</td>\n",
       "      <td>Abuja</td>\n",
       "      <td>New</td>\n",
       "      <td>4-cylinder(I4)</td>\n",
       "      <td>automatic</td>\n",
       "      <td>petrol</td>\n",
       "      <td>White</td>\n",
       "      <td>2017</td>\n",
       "    </tr>\n",
       "    <tr>\n",
       "      <th>1</th>\n",
       "      <td>1</td>\n",
       "      <td>Honda Accord</td>\n",
       "      <td>29938</td>\n",
       "      <td>Abuja</td>\n",
       "      <td>Foreign Used</td>\n",
       "      <td>4-cylinder(I4)</td>\n",
       "      <td>automatic</td>\n",
       "      <td>petrol</td>\n",
       "      <td>White</td>\n",
       "      <td>2013</td>\n",
       "    </tr>\n",
       "    <tr>\n",
       "      <th>2</th>\n",
       "      <td>2</td>\n",
       "      <td>Mercedes-Benz S 550</td>\n",
       "      <td>87501</td>\n",
       "      <td>Lagos</td>\n",
       "      <td>Foreign Used</td>\n",
       "      <td>4-cylinder(I4)</td>\n",
       "      <td>automatic</td>\n",
       "      <td>petrol</td>\n",
       "      <td>Black</td>\n",
       "      <td>2012</td>\n",
       "    </tr>\n",
       "    <tr>\n",
       "      <th>3</th>\n",
       "      <td>3</td>\n",
       "      <td>Toyota Sienna</td>\n",
       "      <td>180894</td>\n",
       "      <td>Lagos</td>\n",
       "      <td>Locally used</td>\n",
       "      <td>6-cylinder(V6)</td>\n",
       "      <td>automatic</td>\n",
       "      <td>petrol</td>\n",
       "      <td>Dark Grey</td>\n",
       "      <td>2001</td>\n",
       "    </tr>\n",
       "    <tr>\n",
       "      <th>4</th>\n",
       "      <td>4</td>\n",
       "      <td>Toyota Hiace</td>\n",
       "      <td>104814</td>\n",
       "      <td>Lagos</td>\n",
       "      <td>Foreign Used</td>\n",
       "      <td>4-cylinder(I4)</td>\n",
       "      <td>automatic</td>\n",
       "      <td>petrol</td>\n",
       "      <td>White</td>\n",
       "      <td>2000</td>\n",
       "    </tr>\n",
       "  </tbody>\n",
       "</table>\n",
       "</div>"
      ],
      "text/plain": [
       "   id                title  odometer location    isimported          engine  \\\n",
       "0   0  Mercedes-Benz C 300      1234    Abuja          New   4-cylinder(I4)   \n",
       "1   1         Honda Accord     29938    Abuja  Foreign Used  4-cylinder(I4)   \n",
       "2   2  Mercedes-Benz S 550     87501    Lagos  Foreign Used  4-cylinder(I4)   \n",
       "3   3        Toyota Sienna    180894    Lagos  Locally used  6-cylinder(V6)   \n",
       "4   4         Toyota Hiace    104814    Lagos  Foreign Used  4-cylinder(I4)   \n",
       "\n",
       "  transmission    fuel      paint  year  \n",
       "0    automatic  petrol      White  2017  \n",
       "1    automatic  petrol      White  2013  \n",
       "2    automatic  petrol      Black  2012  \n",
       "3    automatic  petrol  Dark Grey  2001  \n",
       "4    automatic  petrol      White  2000  "
      ]
     },
     "metadata": {},
     "output_type": "display_data"
    }
   ],
   "source": [
    "# 학습데이터 불러오기\n",
    "origin_train = pd.read_csv(\"./data/train.csv\")\n",
    "print(\"Shape of train data :\", origin_train.shape, \"\\n\")\n",
    "\n",
    "# 평가데이터 불러오기\n",
    "origin_test = pd.read_csv(\"./data/test.csv\")\n",
    "print(\"Shape of test data :\", origin_test.shape, \"\\n\")\n",
    "\n",
    "display(origin_train.head())\n",
    "display(origin_test.head())"
   ]
  },
  {
   "cell_type": "markdown",
   "id": "6fc6e022-b7aa-4d7a-a5d2-bdb469350f99",
   "metadata": {},
   "source": [
    "- 학습 데이터는 **1,015**개의 관측치와 11개의 변수가 존재한다.\n",
    "\n",
    "- 평가 데이터는 **415**개의 관측치와 10개의 변수가 존재함을 확인할 수 있다.\n",
    "\n",
    "- 데이터 일부를 살펴보았을 때, 범주형 변수가 많음을 확인할 수 있다."
   ]
  },
  {
   "cell_type": "markdown",
   "id": "c4023a44-8278-425d-9d5a-eb3ce307ce34",
   "metadata": {},
   "source": [
    "# <span style=\"color:Brown; font-family:AppleGothic; font-weight:bolder\">2. Data EDA - 1</span>"
   ]
  },
  {
   "cell_type": "markdown",
   "id": "38ef5b23-c374-410a-b571-a217b319a24a",
   "metadata": {},
   "source": [
    "---"
   ]
  },
  {
   "cell_type": "markdown",
   "id": "e9c64af6-1747-4be0-8398-5b910e6b76c3",
   "metadata": {},
   "source": [
    "- 각 변수들을 확인해보고 예측 변수와의 어떤 관계가 있는지 확인해보도록 한다."
   ]
  },
  {
   "cell_type": "code",
   "execution_count": 5,
   "id": "e3367785-8b8e-4e19-a1a0-304311465423",
   "metadata": {},
   "outputs": [
    {
     "name": "stdout",
     "output_type": "stream",
     "text": [
      "----------Train data Information----------\n",
      "\n",
      "<class 'pandas.core.frame.DataFrame'>\n",
      "RangeIndex: 1015 entries, 0 to 1014\n",
      "Data columns (total 11 columns):\n",
      " #   Column        Non-Null Count  Dtype \n",
      "---  ------        --------------  ----- \n",
      " 0   id            1015 non-null   int64 \n",
      " 1   title         1015 non-null   object\n",
      " 2   odometer      1015 non-null   int64 \n",
      " 3   location      1015 non-null   object\n",
      " 4   isimported    1015 non-null   object\n",
      " 5   engine        1015 non-null   object\n",
      " 6   transmission  1015 non-null   object\n",
      " 7   fuel          1015 non-null   object\n",
      " 8   paint         1015 non-null   object\n",
      " 9   year          1015 non-null   int64 \n",
      " 10  target        1015 non-null   int64 \n",
      "dtypes: int64(4), object(7)\n",
      "memory usage: 87.4+ KB\n",
      "None \n",
      "\n",
      "----------Test data Information----------\n",
      "\n",
      "<class 'pandas.core.frame.DataFrame'>\n",
      "RangeIndex: 436 entries, 0 to 435\n",
      "Data columns (total 10 columns):\n",
      " #   Column        Non-Null Count  Dtype \n",
      "---  ------        --------------  ----- \n",
      " 0   id            436 non-null    int64 \n",
      " 1   title         436 non-null    object\n",
      " 2   odometer      436 non-null    int64 \n",
      " 3   location      436 non-null    object\n",
      " 4   isimported    436 non-null    object\n",
      " 5   engine        436 non-null    object\n",
      " 6   transmission  436 non-null    object\n",
      " 7   fuel          436 non-null    object\n",
      " 8   paint         436 non-null    object\n",
      " 9   year          436 non-null    int64 \n",
      "dtypes: int64(3), object(7)\n",
      "memory usage: 34.2+ KB\n",
      "None\n"
     ]
    }
   ],
   "source": [
    "# Train data\n",
    "print(\"----------Train data Information----------\\n\")\n",
    "print(origin_train.info(), \"\\n\")\n",
    "\n",
    "# Test data\n",
    "print(\"----------Test data Information----------\\n\")\n",
    "print(origin_test.info())"
   ]
  },
  {
   "cell_type": "markdown",
   "id": "b5d811ee-703d-413f-9a8d-2b9200342c50",
   "metadata": {},
   "source": [
    "- 우선, 학습 데이터와 평가 데이터의 정보를 간단하게 확인해보도록 한다.\n",
    "\n",
    "- 시각화를 통해 결측치의 정보를 확인할 수 있지만, 위의 정보를 통해 두 데이터의 모든 변수에 결측치가 없음을 확인할 수 있으므로 생략하도록 한다.\n",
    "\n",
    "- **id, target** 두 변수를 제외하고 **2**개의 숫자형 변수와 **7**개의 범주형 변수로 이루어져 있음을 확인할 수 있다."
   ]
  },
  {
   "cell_type": "markdown",
   "id": "b7aed436-3250-48f0-9ebd-62b070dc8f6d",
   "metadata": {},
   "source": [
    "## <span style=\"color:Chocolate; font-family:AppleGothic; font-weight:bolder\">2.1 Target variable</span>"
   ]
  },
  {
   "cell_type": "markdown",
   "id": "77db7b13-e777-4f53-884c-1eff707d3cbe",
   "metadata": {},
   "source": [
    "- 현재 예측 변수는 치우침의 정도가 심하며 로그 변환한 변수를 만들어주도록 한다."
   ]
  },
  {
   "cell_type": "code",
   "execution_count": 6,
   "id": "480ad6c5-6763-4870-a89f-03fb4d7b4293",
   "metadata": {},
   "outputs": [
    {
     "name": "stdout",
     "output_type": "stream",
     "text": [
      "Shape of train data *Before Create* : (1015, 11) \n",
      "\n",
      "Shape of train data *After Create* : (1015, 12) \n",
      "\n"
     ]
    },
    {
     "data": {
      "text/html": [
       "<div>\n",
       "<style scoped>\n",
       "    .dataframe tbody tr th:only-of-type {\n",
       "        vertical-align: middle;\n",
       "    }\n",
       "\n",
       "    .dataframe tbody tr th {\n",
       "        vertical-align: top;\n",
       "    }\n",
       "\n",
       "    .dataframe thead th {\n",
       "        text-align: right;\n",
       "    }\n",
       "</style>\n",
       "<table border=\"1\" class=\"dataframe\">\n",
       "  <thead>\n",
       "    <tr style=\"text-align: right;\">\n",
       "      <th></th>\n",
       "      <th>id</th>\n",
       "      <th>title</th>\n",
       "      <th>odometer</th>\n",
       "      <th>location</th>\n",
       "      <th>isimported</th>\n",
       "      <th>engine</th>\n",
       "      <th>transmission</th>\n",
       "      <th>fuel</th>\n",
       "      <th>paint</th>\n",
       "      <th>year</th>\n",
       "      <th>target</th>\n",
       "      <th>log_target</th>\n",
       "    </tr>\n",
       "  </thead>\n",
       "  <tbody>\n",
       "    <tr>\n",
       "      <th>0</th>\n",
       "      <td>0</td>\n",
       "      <td>Toyota RAV 4</td>\n",
       "      <td>18277</td>\n",
       "      <td>Lagos</td>\n",
       "      <td>Foreign Used</td>\n",
       "      <td>4-cylinder(I4)</td>\n",
       "      <td>automatic</td>\n",
       "      <td>petrol</td>\n",
       "      <td>Red</td>\n",
       "      <td>2016</td>\n",
       "      <td>13665000</td>\n",
       "      <td>16.430348</td>\n",
       "    </tr>\n",
       "    <tr>\n",
       "      <th>1</th>\n",
       "      <td>1</td>\n",
       "      <td>Toyota Land Cruiser</td>\n",
       "      <td>10</td>\n",
       "      <td>Lagos</td>\n",
       "      <td>New</td>\n",
       "      <td>4-cylinder(I4)</td>\n",
       "      <td>automatic</td>\n",
       "      <td>petrol</td>\n",
       "      <td>Black</td>\n",
       "      <td>2019</td>\n",
       "      <td>33015000</td>\n",
       "      <td>17.312473</td>\n",
       "    </tr>\n",
       "    <tr>\n",
       "      <th>2</th>\n",
       "      <td>2</td>\n",
       "      <td>Land Rover Range Rover Evoque</td>\n",
       "      <td>83091</td>\n",
       "      <td>Lagos</td>\n",
       "      <td>Foreign Used</td>\n",
       "      <td>6-cylinder(V6)</td>\n",
       "      <td>automatic</td>\n",
       "      <td>petrol</td>\n",
       "      <td>Red</td>\n",
       "      <td>2012</td>\n",
       "      <td>9915000</td>\n",
       "      <td>16.109559</td>\n",
       "    </tr>\n",
       "    <tr>\n",
       "      <th>3</th>\n",
       "      <td>3</td>\n",
       "      <td>Lexus ES 350</td>\n",
       "      <td>91524</td>\n",
       "      <td>Lagos</td>\n",
       "      <td>Foreign Used</td>\n",
       "      <td>4-cylinder(I4)</td>\n",
       "      <td>automatic</td>\n",
       "      <td>petrol</td>\n",
       "      <td>Gray</td>\n",
       "      <td>2007</td>\n",
       "      <td>3815000</td>\n",
       "      <td>15.154451</td>\n",
       "    </tr>\n",
       "    <tr>\n",
       "      <th>4</th>\n",
       "      <td>4</td>\n",
       "      <td>Toyota Venza</td>\n",
       "      <td>94177</td>\n",
       "      <td>Lagos</td>\n",
       "      <td>Foreign Used</td>\n",
       "      <td>6-cylinder(V6)</td>\n",
       "      <td>automatic</td>\n",
       "      <td>petrol</td>\n",
       "      <td>Red</td>\n",
       "      <td>2010</td>\n",
       "      <td>7385000</td>\n",
       "      <td>15.814961</td>\n",
       "    </tr>\n",
       "  </tbody>\n",
       "</table>\n",
       "</div>"
      ],
      "text/plain": [
       "   id                          title  odometer location    isimported  \\\n",
       "0   0                   Toyota RAV 4     18277   Lagos   Foreign Used   \n",
       "1   1            Toyota Land Cruiser        10    Lagos          New    \n",
       "2   2  Land Rover Range Rover Evoque     83091    Lagos  Foreign Used   \n",
       "3   3                   Lexus ES 350     91524    Lagos  Foreign Used   \n",
       "4   4                   Toyota Venza     94177    Lagos  Foreign Used   \n",
       "\n",
       "           engine transmission    fuel  paint  year    target  log_target  \n",
       "0  4-cylinder(I4)    automatic  petrol    Red  2016  13665000   16.430348  \n",
       "1  4-cylinder(I4)    automatic  petrol  Black  2019  33015000   17.312473  \n",
       "2  6-cylinder(V6)    automatic  petrol    Red  2012   9915000   16.109559  \n",
       "3  4-cylinder(I4)    automatic  petrol   Gray  2007   3815000   15.154451  \n",
       "4  6-cylinder(V6)    automatic  petrol    Red  2010   7385000   15.814961  "
      ]
     },
     "metadata": {},
     "output_type": "display_data"
    }
   ],
   "source": [
    "print(\"Shape of train data *Before Create* :\", origin_train.shape, \"\\n\")\n",
    "\n",
    "# Log Transformation\n",
    "origin_train[\"log_target\"] = np.log(origin_train[\"target\"])\n",
    "print(\"Shape of train data *After Create* :\", origin_train.shape, \"\\n\")\n",
    "display(origin_train.head())"
   ]
  },
  {
   "cell_type": "code",
   "execution_count": 7,
   "id": "4d0f4e8f-90ff-4bb5-9654-37d95b1df54c",
   "metadata": {},
   "outputs": [],
   "source": [
    "# 예측 변수의 왜도와 첨도\n",
    "origin_skew = round(origin_train[\"target\"].skew(), 3)\n",
    "origin_kurt = round(origin_train[\"target\"].kurtosis(), 3)\n",
    "\n",
    "# 로그 변환을 수행한 예측 변수의 왜도와 첨도\n",
    "log_skew = round(origin_train[\"log_target\"].skew(), 3)\n",
    "log_kurt = round(origin_train[\"log_target\"].kurtosis(), 3)"
   ]
  },
  {
   "cell_type": "code",
   "execution_count": 8,
   "id": "d0d0f201-cb6b-453d-b6db-71fe9ba909ce",
   "metadata": {},
   "outputs": [
    {
     "data": {
      "image/png": "[encoded data removed]",
      "text/plain": [
       "<Figure size 1080x360 with 3 Axes>"
      ]
     },
     "metadata": {
      "needs_background": "light"
     },
     "output_type": "display_data"
    }
   ],
   "source": [
    "fig, axes = plt.subplots(nrows = 1, ncols = 3, figsize = (15, 5))\n",
    "\n",
    "# Box & Swarm plot\n",
    "sns.boxplot(origin_train[\"target\"], width = 0.6, ax = axes[0])\n",
    "sns.swarmplot(origin_train[\"target\"], color = \"orange\", alpha = 0.4, ax = axes[0])\n",
    "axes[0].set_title(\"Boxplot of target variable\", fontsize = 14)\n",
    "\n",
    "# Histogram\n",
    "sns.histplot(origin_train[\"target\"], ax = axes[1])\n",
    "axes[1].set_title(\"Histogram of target variable\", fontsize = 14)\n",
    "axes[1].text(x = 80000000, y = 175, s = \"왜도 = {}\".format(origin_skew), fontsize = 13)\n",
    "axes[1].text(x = 80000000, y = 155, s = \"첨도 = {}\".format(origin_kurt), fontsize = 13)\n",
    "\n",
    "# Log Transformation\n",
    "sns.histplot(np.log(origin_train[\"target\"]), color = \"lightcoral\", ax = axes[2])\n",
    "axes[2].set_title(\"Histogram of log transformation target variable\", fontsize = 14)\n",
    "axes[2].text(x = 17, y = 120, s = \"왜도 = {}\".format(log_skew), fontsize = 13)\n",
    "axes[2].text(x = 17, y = 105, s = \"첨도 = {}\".format(log_kurt), fontsize = 13)\n",
    "\n",
    "for index in [0, 1, 2]:\n",
    "    axes[index].set_xlabel(\"\")\n",
    "    axes[index].set_ylabel(\"\")\n",
    "\n",
    "fig.tight_layout(w_pad = 5)"
   ]
  },
  {
   "cell_type": "markdown",
   "id": "263746b9-afcf-4b82-b408-8c1480d31e2d",
   "metadata": {},
   "source": [
    "- 로그 변환을 수행하기 전의 예측 변수를 살펴보면 왼쪽으로 매우 치우쳐져 있음을 확인할 수 있다.\n",
    "\n",
    "- 또한, 왜도의 값이 그렇게 크지는 않지만 첨도의 값이 약 **35.56**으로 매우 크다는 사실을 확인할 수 있다.\n",
    "\n",
    "- 반면에 로그 변환을 수행한 예측 변수는 왜도, 첨도의 값이 낮고 정규분포에 가깝다는 것을 확인할 수 있다.\n",
    "\n",
    "- **따라서, 로그 변환을 수행한 변수를 사용해주도록 한다.**"
   ]
  },
  {
   "cell_type": "markdown",
   "id": "0dd64d69-a409-42d5-a1f2-7b50a3446310",
   "metadata": {},
   "source": [
    "## <span style=\"color:Chocolate; font-family:AppleGothic; font-weight:bolder\">2.2 Title</span>"
   ]
  },
  {
   "cell_type": "markdown",
   "id": "00ce59e1-dacf-418b-a94b-b5bf7bbcb56a",
   "metadata": {},
   "source": [
    "- **title** 변수는 **제조사 모델명**을 나타내며, 학습 데이터와 평가 데이터의 제조사 모델명이 모두 일치하는지 확인해보도록 하자."
   ]
  },
  {
   "cell_type": "code",
   "execution_count": 9,
   "id": "2f1312c1-3a57-4a81-8c1a-aaa5b536bb78",
   "metadata": {},
   "outputs": [
    {
     "name": "stdout",
     "output_type": "stream",
     "text": [
      "Length of title in train data : 203 \n",
      "\n",
      "Length of title in test data : 124 \n",
      "\n",
      "학습 데이터에만 존재하는 제조사 모델명 개수 : 116 \n",
      "\n",
      "평가 데이터에만 존재하는 제조사 모델명 개수 : 37\n"
     ]
    }
   ],
   "source": [
    "print(\"Length of title in train data :\", len(origin_train[\"title\"].unique()), \"\\n\")\n",
    "print(\"Length of title in test data :\", len(origin_test[\"title\"].unique()), \"\\n\")\n",
    "\n",
    "# 'title' 변수 집합 객체 생성\n",
    "train_title = set(origin_train[\"title\"])\n",
    "test_title = set(origin_test[\"title\"])\n",
    "\n",
    "print(\"학습 데이터에만 존재하는 제조사 모델명 개수 :\", len(train_title.difference(test_title)), \"\\n\")\n",
    "print(\"평가 데이터에만 존재하는 제조사 모델명 개수 :\", len(test_title.difference(train_title)))"
   ]
  },
  {
   "cell_type": "markdown",
   "id": "8a77c231-3d71-471b-b135-5665d0e38fd8",
   "metadata": {},
   "source": [
    "- 학습 데이터에 존재하는 제조사 모델명 개수는 203개이며, 평가 데이터에 존재하는 제조사 모델명 개수는 124개이다.\n",
    "\n",
    "- 학습 데이터에만 존재하는 제조 모델명 개수는 116개이며, 평가 데이터에만 존재하는 제조사 모델명 개수는 37개이다.\n",
    "\n",
    "- 학습 데이터에 존재하지 않는 제조사 모델명이 평가 데이터에 존재하기 때문에 **title** 변수를 그대로 사용하기에는 부적절하다.\n",
    "\n",
    "- 또한, 해당 변수를 그대로 사용하는 경우 **202**개의 가변수를 만들어줘야 한다.<br><br>\n",
    "\n",
    "- **title** 변수를 살펴보면 앞부분은 제조사를 나타내는 것을 확인할 수 있다.\n",
    "\n",
    "- 따라서, 모델명은 제거하고 제조사만 나타낼 수 있도록 처리해주도록 한다.\n",
    "\n",
    "- 우선, **'공백'** 으로 분할한 후 첫번째 값을 가져오고, **'-'** 기호로 분할한 후 첫번째 값을 가져온다.\n",
    "\n",
    "- 마지막으로 모든 문자열을 소문자로 바꿔주도록 한다."
   ]
  },
  {
   "cell_type": "markdown",
   "id": "0d1704c6-a6a4-4adb-8ae1-f577cddaa881",
   "metadata": {},
   "source": [
    "### <span style=\"color:GoldenRod; font-family:AppleGothic; font-weight:bolder\">2.2.1 제조사 추출 함수 생성</span>"
   ]
  },
  {
   "cell_type": "code",
   "execution_count": 10,
   "id": "55794161-6e39-4866-915e-57a2bd631614",
   "metadata": {},
   "outputs": [],
   "source": [
    "# 'title' 변수에서 제조사만 추출하는 함수 생성\n",
    "def title_extract(text):\n",
    "    \n",
    "    # '공백'으로 분할 후, 첫번째 값 추출\n",
    "    text = text.split(\" \")[0]\n",
    "    \n",
    "    # '-' 기호로 분할 후, 첫번째 값 추출\n",
    "    text = text.split(\"-\")[0]\n",
    "    \n",
    "    # 반환할때는 소문자로 변환\n",
    "    return text.lower()"
   ]
  },
  {
   "cell_type": "code",
   "execution_count": 11,
   "id": "0e0fb8ad-a284-472f-846d-4ba8e80b6074",
   "metadata": {},
   "outputs": [
    {
     "name": "stdout",
     "output_type": "stream",
     "text": [
      "Shape of train data *Before Create* : (1015, 12) \n",
      "\n",
      "Shape of test data *Before Create* : (436, 10) \n",
      "\n",
      "Shape of train data *After Create* : (1015, 13) \n",
      "\n",
      "Shape of test data *After Create* : (436, 11) \n",
      "\n"
     ]
    },
    {
     "data": {
      "text/html": [
       "<div>\n",
       "<style scoped>\n",
       "    .dataframe tbody tr th:only-of-type {\n",
       "        vertical-align: middle;\n",
       "    }\n",
       "\n",
       "    .dataframe tbody tr th {\n",
       "        vertical-align: top;\n",
       "    }\n",
       "\n",
       "    .dataframe thead th {\n",
       "        text-align: right;\n",
       "    }\n",
       "</style>\n",
       "<table border=\"1\" class=\"dataframe\">\n",
       "  <thead>\n",
       "    <tr style=\"text-align: right;\">\n",
       "      <th></th>\n",
       "      <th>id</th>\n",
       "      <th>title</th>\n",
       "      <th>odometer</th>\n",
       "      <th>location</th>\n",
       "      <th>isimported</th>\n",
       "      <th>engine</th>\n",
       "      <th>transmission</th>\n",
       "      <th>fuel</th>\n",
       "      <th>paint</th>\n",
       "      <th>year</th>\n",
       "      <th>target</th>\n",
       "      <th>log_target</th>\n",
       "      <th>main_title</th>\n",
       "    </tr>\n",
       "  </thead>\n",
       "  <tbody>\n",
       "    <tr>\n",
       "      <th>0</th>\n",
       "      <td>0</td>\n",
       "      <td>Toyota RAV 4</td>\n",
       "      <td>18277</td>\n",
       "      <td>Lagos</td>\n",
       "      <td>Foreign Used</td>\n",
       "      <td>4-cylinder(I4)</td>\n",
       "      <td>automatic</td>\n",
       "      <td>petrol</td>\n",
       "      <td>Red</td>\n",
       "      <td>2016</td>\n",
       "      <td>13665000</td>\n",
       "      <td>16.430348</td>\n",
       "      <td>toyota</td>\n",
       "    </tr>\n",
       "    <tr>\n",
       "      <th>1</th>\n",
       "      <td>1</td>\n",
       "      <td>Toyota Land Cruiser</td>\n",
       "      <td>10</td>\n",
       "      <td>Lagos</td>\n",
       "      <td>New</td>\n",
       "      <td>4-cylinder(I4)</td>\n",
       "      <td>automatic</td>\n",
       "      <td>petrol</td>\n",
       "      <td>Black</td>\n",
       "      <td>2019</td>\n",
       "      <td>33015000</td>\n",
       "      <td>17.312473</td>\n",
       "      <td>toyota</td>\n",
       "    </tr>\n",
       "    <tr>\n",
       "      <th>2</th>\n",
       "      <td>2</td>\n",
       "      <td>Land Rover Range Rover Evoque</td>\n",
       "      <td>83091</td>\n",
       "      <td>Lagos</td>\n",
       "      <td>Foreign Used</td>\n",
       "      <td>6-cylinder(V6)</td>\n",
       "      <td>automatic</td>\n",
       "      <td>petrol</td>\n",
       "      <td>Red</td>\n",
       "      <td>2012</td>\n",
       "      <td>9915000</td>\n",
       "      <td>16.109559</td>\n",
       "      <td>land</td>\n",
       "    </tr>\n",
       "  </tbody>\n",
       "</table>\n",
       "</div>"
      ],
      "text/plain": [
       "   id                          title  odometer location    isimported  \\\n",
       "0   0                   Toyota RAV 4     18277   Lagos   Foreign Used   \n",
       "1   1            Toyota Land Cruiser        10    Lagos          New    \n",
       "2   2  Land Rover Range Rover Evoque     83091    Lagos  Foreign Used   \n",
       "\n",
       "           engine transmission    fuel  paint  year    target  log_target  \\\n",
       "0  4-cylinder(I4)    automatic  petrol    Red  2016  13665000   16.430348   \n",
       "1  4-cylinder(I4)    automatic  petrol  Black  2019  33015000   17.312473   \n",
       "2  6-cylinder(V6)    automatic  petrol    Red  2012   9915000   16.109559   \n",
       "\n",
       "  main_title  \n",
       "0     toyota  \n",
       "1     toyota  \n",
       "2       land  "
      ]
     },
     "metadata": {},
     "output_type": "display_data"
    },
    {
     "data": {
      "text/html": [
       "<div>\n",
       "<style scoped>\n",
       "    .dataframe tbody tr th:only-of-type {\n",
       "        vertical-align: middle;\n",
       "    }\n",
       "\n",
       "    .dataframe tbody tr th {\n",
       "        vertical-align: top;\n",
       "    }\n",
       "\n",
       "    .dataframe thead th {\n",
       "        text-align: right;\n",
       "    }\n",
       "</style>\n",
       "<table border=\"1\" class=\"dataframe\">\n",
       "  <thead>\n",
       "    <tr style=\"text-align: right;\">\n",
       "      <th></th>\n",
       "      <th>id</th>\n",
       "      <th>title</th>\n",
       "      <th>odometer</th>\n",
       "      <th>location</th>\n",
       "      <th>isimported</th>\n",
       "      <th>engine</th>\n",
       "      <th>transmission</th>\n",
       "      <th>fuel</th>\n",
       "      <th>paint</th>\n",
       "      <th>year</th>\n",
       "      <th>main_title</th>\n",
       "    </tr>\n",
       "  </thead>\n",
       "  <tbody>\n",
       "    <tr>\n",
       "      <th>0</th>\n",
       "      <td>0</td>\n",
       "      <td>Mercedes-Benz C 300</td>\n",
       "      <td>1234</td>\n",
       "      <td>Abuja</td>\n",
       "      <td>New</td>\n",
       "      <td>4-cylinder(I4)</td>\n",
       "      <td>automatic</td>\n",
       "      <td>petrol</td>\n",
       "      <td>White</td>\n",
       "      <td>2017</td>\n",
       "      <td>mercedes</td>\n",
       "    </tr>\n",
       "    <tr>\n",
       "      <th>1</th>\n",
       "      <td>1</td>\n",
       "      <td>Honda Accord</td>\n",
       "      <td>29938</td>\n",
       "      <td>Abuja</td>\n",
       "      <td>Foreign Used</td>\n",
       "      <td>4-cylinder(I4)</td>\n",
       "      <td>automatic</td>\n",
       "      <td>petrol</td>\n",
       "      <td>White</td>\n",
       "      <td>2013</td>\n",
       "      <td>honda</td>\n",
       "    </tr>\n",
       "    <tr>\n",
       "      <th>2</th>\n",
       "      <td>2</td>\n",
       "      <td>Mercedes-Benz S 550</td>\n",
       "      <td>87501</td>\n",
       "      <td>Lagos</td>\n",
       "      <td>Foreign Used</td>\n",
       "      <td>4-cylinder(I4)</td>\n",
       "      <td>automatic</td>\n",
       "      <td>petrol</td>\n",
       "      <td>Black</td>\n",
       "      <td>2012</td>\n",
       "      <td>mercedes</td>\n",
       "    </tr>\n",
       "  </tbody>\n",
       "</table>\n",
       "</div>"
      ],
      "text/plain": [
       "   id                title  odometer location    isimported          engine  \\\n",
       "0   0  Mercedes-Benz C 300      1234    Abuja          New   4-cylinder(I4)   \n",
       "1   1         Honda Accord     29938    Abuja  Foreign Used  4-cylinder(I4)   \n",
       "2   2  Mercedes-Benz S 550     87501    Lagos  Foreign Used  4-cylinder(I4)   \n",
       "\n",
       "  transmission    fuel  paint  year main_title  \n",
       "0    automatic  petrol  White  2017   mercedes  \n",
       "1    automatic  petrol  White  2013      honda  \n",
       "2    automatic  petrol  Black  2012   mercedes  "
      ]
     },
     "metadata": {},
     "output_type": "display_data"
    }
   ],
   "source": [
    "print(\"Shape of train data *Before Create* :\", origin_train.shape, \"\\n\")\n",
    "print(\"Shape of test data *Before Create* :\", origin_test.shape, \"\\n\")\n",
    "\n",
    "# 함수 적용\n",
    "origin_train[\"main_title\"] = origin_train[\"title\"].apply(title_extract)\n",
    "origin_test[\"main_title\"] = origin_test[\"title\"].apply(title_extract)\n",
    "\n",
    "print(\"Shape of train data *After Create* :\", origin_train.shape, \"\\n\")\n",
    "print(\"Shape of test data *After Create* :\", origin_test.shape, \"\\n\")\n",
    "\n",
    "display(origin_train.head(3))\n",
    "display(origin_test.head(3))"
   ]
  },
  {
   "cell_type": "code",
   "execution_count": 12,
   "id": "6b927022-de83-44a4-9136-41aec5258e71",
   "metadata": {},
   "outputs": [
    {
     "name": "stdout",
     "output_type": "stream",
     "text": [
      "Length of main title in train data : 39 \n",
      "\n",
      "Length of main title in test data : 28\n"
     ]
    }
   ],
   "source": [
    "print(\"Length of main title in train data :\", len(origin_train[\"main_title\"].unique()), \"\\n\")\n",
    "print(\"Length of main title in test data :\", len(origin_test[\"main_title\"].unique()))"
   ]
  },
  {
   "cell_type": "markdown",
   "id": "842bf3d6-e894-4bbc-aee9-84794abe36e4",
   "metadata": {},
   "source": [
    "- 위의 과정을 거쳤더니 제조사의 개수가 학습 데이터는 39개로, 평가 데이터는 28개로 줄어들었음을 확인할 수 있다.\n",
    "\n",
    "- 줄어들었다 하더라도 여전히 많은 개수이기 때문에 시각화를 통해 살펴보도록 한다."
   ]
  },
  {
   "cell_type": "code",
   "execution_count": 13,
   "id": "1f41de4d-8330-47b5-ad30-5c55098089e1",
   "metadata": {},
   "outputs": [
    {
     "data": {
      "image/png": "[encoded data removed]",
      "text/plain": [
       "<Figure size 1440x432 with 2 Axes>"
      ]
     },
     "metadata": {
      "needs_background": "light"
     },
     "output_type": "display_data"
    }
   ],
   "source": [
    "fig, axes = plt.subplots(nrows = 1, ncols = 2, figsize = (20, 6))\n",
    "\n",
    "# Train data 상위 15개 확인\n",
    "plot_data = pd.DataFrame(origin_train[\"main_title\"].value_counts().head(15))\n",
    "\n",
    "sns.barplot(x = plot_data.index, y = \"main_title\", data = plot_data, ax = axes[0])\n",
    "axes[0].set_xticklabels(labels = plot_data.index, fontsize = 14)\n",
    "axes[0].set_title(\"학습 데이터의 상위 15개 제조사 개수\", fontsize = 14)\n",
    "\n",
    "# Test data 상위 15개 확인\n",
    "plot_data = pd.DataFrame(origin_test[\"main_title\"].value_counts().head(15))\n",
    "\n",
    "sns.barplot(x = plot_data.index, y = \"main_title\", data = plot_data, ax = axes[1])\n",
    "axes[1].set_xticklabels(labels = plot_data.index, fontsize = 14)\n",
    "axes[1].set_title(\"평가 데이터의 상위 15개 제조사 개수\", fontsize = 14)\n",
    "\n",
    "for index in [0, 1]:\n",
    "    axes[index].set_ylabel(\"\")\n",
    "    \n",
    "    for rect in axes[index].patches:\n",
    "        axes[index].text(rect.get_x() + rect.get_width() / 2, rect.get_height(), int(rect.get_height()), ha = \"center\", fontsize = 13)\n",
    "\n",
    "fig.autofmt_xdate(rotation = 45)\n",
    "fig.tight_layout()"
   ]
  },
  {
   "cell_type": "markdown",
   "id": "6f66d370-3f88-4bd5-99a7-69fb5c52b1c9",
   "metadata": {},
   "source": [
    "- 학습 데이터와 평가 데이터 모두 **toyota** 제조사가 가장 많이 등장함을 알 수 있다.\n",
    "\n",
    "- 또한, 상위 4개 브랜드는 많이 등장하지만, 그 외의 제조사는 등장 횟수가 매우 적음을 알 수 있다.\n",
    "\n",
    "- **따라서 해당 변수는 추후에 범주를 묶어줄 필요성이 있는 것으로 판단된다.**"
   ]
  },
  {
   "cell_type": "markdown",
   "id": "74618b92-f042-467c-82a4-6d4ddf33a425",
   "metadata": {},
   "source": [
    "## <span style=\"color:Chocolate; font-family:AppleGothic; font-weight:bolder\">2.3 Odometer</span>"
   ]
  },
  {
   "cell_type": "markdown",
   "id": "e78f9b9f-360e-4545-a6bb-90e8899ad014",
   "metadata": {},
   "source": [
    "- **Odometer** 변수는 해당 중고차의 주행거리를 나타내는 변수이다.\n",
    "\n",
    "- **Odometer** 변수도 편차가 클 것으로 판단되기 때문에 로그 변환을 수행해주도록 한다."
   ]
  },
  {
   "cell_type": "code",
   "execution_count": 14,
   "id": "1bd52855-6085-45bc-a37c-7ae01aef35c8",
   "metadata": {},
   "outputs": [
    {
     "name": "stdout",
     "output_type": "stream",
     "text": [
      "Shape of train data *Before Create* : (1015, 13) \n",
      "\n",
      "Shape of test data *Before Create* : (436, 11) \n",
      "\n",
      "Shape of train data *After Create* : (1015, 14) \n",
      "\n",
      "Shape of test data *After Create* : (436, 12) \n",
      "\n"
     ]
    },
    {
     "data": {
      "text/html": [
       "<div>\n",
       "<style scoped>\n",
       "    .dataframe tbody tr th:only-of-type {\n",
       "        vertical-align: middle;\n",
       "    }\n",
       "\n",
       "    .dataframe tbody tr th {\n",
       "        vertical-align: top;\n",
       "    }\n",
       "\n",
       "    .dataframe thead th {\n",
       "        text-align: right;\n",
       "    }\n",
       "</style>\n",
       "<table border=\"1\" class=\"dataframe\">\n",
       "  <thead>\n",
       "    <tr style=\"text-align: right;\">\n",
       "      <th></th>\n",
       "      <th>id</th>\n",
       "      <th>title</th>\n",
       "      <th>odometer</th>\n",
       "      <th>location</th>\n",
       "      <th>isimported</th>\n",
       "      <th>engine</th>\n",
       "      <th>transmission</th>\n",
       "      <th>fuel</th>\n",
       "      <th>paint</th>\n",
       "      <th>year</th>\n",
       "      <th>target</th>\n",
       "      <th>log_target</th>\n",
       "      <th>main_title</th>\n",
       "      <th>log_odometer</th>\n",
       "    </tr>\n",
       "  </thead>\n",
       "  <tbody>\n",
       "    <tr>\n",
       "      <th>0</th>\n",
       "      <td>0</td>\n",
       "      <td>Toyota RAV 4</td>\n",
       "      <td>18277</td>\n",
       "      <td>Lagos</td>\n",
       "      <td>Foreign Used</td>\n",
       "      <td>4-cylinder(I4)</td>\n",
       "      <td>automatic</td>\n",
       "      <td>petrol</td>\n",
       "      <td>Red</td>\n",
       "      <td>2016</td>\n",
       "      <td>13665000</td>\n",
       "      <td>16.430348</td>\n",
       "      <td>toyota</td>\n",
       "      <td>9.813453</td>\n",
       "    </tr>\n",
       "    <tr>\n",
       "      <th>1</th>\n",
       "      <td>1</td>\n",
       "      <td>Toyota Land Cruiser</td>\n",
       "      <td>10</td>\n",
       "      <td>Lagos</td>\n",
       "      <td>New</td>\n",
       "      <td>4-cylinder(I4)</td>\n",
       "      <td>automatic</td>\n",
       "      <td>petrol</td>\n",
       "      <td>Black</td>\n",
       "      <td>2019</td>\n",
       "      <td>33015000</td>\n",
       "      <td>17.312473</td>\n",
       "      <td>toyota</td>\n",
       "      <td>2.397895</td>\n",
       "    </tr>\n",
       "    <tr>\n",
       "      <th>2</th>\n",
       "      <td>2</td>\n",
       "      <td>Land Rover Range Rover Evoque</td>\n",
       "      <td>83091</td>\n",
       "      <td>Lagos</td>\n",
       "      <td>Foreign Used</td>\n",
       "      <td>6-cylinder(V6)</td>\n",
       "      <td>automatic</td>\n",
       "      <td>petrol</td>\n",
       "      <td>Red</td>\n",
       "      <td>2012</td>\n",
       "      <td>9915000</td>\n",
       "      <td>16.109559</td>\n",
       "      <td>land</td>\n",
       "      <td>11.327704</td>\n",
       "    </tr>\n",
       "  </tbody>\n",
       "</table>\n",
       "</div>"
      ],
      "text/plain": [
       "   id                          title  odometer location    isimported  \\\n",
       "0   0                   Toyota RAV 4     18277   Lagos   Foreign Used   \n",
       "1   1            Toyota Land Cruiser        10    Lagos          New    \n",
       "2   2  Land Rover Range Rover Evoque     83091    Lagos  Foreign Used   \n",
       "\n",
       "           engine transmission    fuel  paint  year    target  log_target  \\\n",
       "0  4-cylinder(I4)    automatic  petrol    Red  2016  13665000   16.430348   \n",
       "1  4-cylinder(I4)    automatic  petrol  Black  2019  33015000   17.312473   \n",
       "2  6-cylinder(V6)    automatic  petrol    Red  2012   9915000   16.109559   \n",
       "\n",
       "  main_title  log_odometer  \n",
       "0     toyota      9.813453  \n",
       "1     toyota      2.397895  \n",
       "2       land     11.327704  "
      ]
     },
     "metadata": {},
     "output_type": "display_data"
    },
    {
     "data": {
      "text/html": [
       "<div>\n",
       "<style scoped>\n",
       "    .dataframe tbody tr th:only-of-type {\n",
       "        vertical-align: middle;\n",
       "    }\n",
       "\n",
       "    .dataframe tbody tr th {\n",
       "        vertical-align: top;\n",
       "    }\n",
       "\n",
       "    .dataframe thead th {\n",
       "        text-align: right;\n",
       "    }\n",
       "</style>\n",
       "<table border=\"1\" class=\"dataframe\">\n",
       "  <thead>\n",
       "    <tr style=\"text-align: right;\">\n",
       "      <th></th>\n",
       "      <th>id</th>\n",
       "      <th>title</th>\n",
       "      <th>odometer</th>\n",
       "      <th>location</th>\n",
       "      <th>isimported</th>\n",
       "      <th>engine</th>\n",
       "      <th>transmission</th>\n",
       "      <th>fuel</th>\n",
       "      <th>paint</th>\n",
       "      <th>year</th>\n",
       "      <th>main_title</th>\n",
       "      <th>log_odometer</th>\n",
       "    </tr>\n",
       "  </thead>\n",
       "  <tbody>\n",
       "    <tr>\n",
       "      <th>0</th>\n",
       "      <td>0</td>\n",
       "      <td>Mercedes-Benz C 300</td>\n",
       "      <td>1234</td>\n",
       "      <td>Abuja</td>\n",
       "      <td>New</td>\n",
       "      <td>4-cylinder(I4)</td>\n",
       "      <td>automatic</td>\n",
       "      <td>petrol</td>\n",
       "      <td>White</td>\n",
       "      <td>2017</td>\n",
       "      <td>mercedes</td>\n",
       "      <td>7.118826</td>\n",
       "    </tr>\n",
       "    <tr>\n",
       "      <th>1</th>\n",
       "      <td>1</td>\n",
       "      <td>Honda Accord</td>\n",
       "      <td>29938</td>\n",
       "      <td>Abuja</td>\n",
       "      <td>Foreign Used</td>\n",
       "      <td>4-cylinder(I4)</td>\n",
       "      <td>automatic</td>\n",
       "      <td>petrol</td>\n",
       "      <td>White</td>\n",
       "      <td>2013</td>\n",
       "      <td>honda</td>\n",
       "      <td>10.306917</td>\n",
       "    </tr>\n",
       "    <tr>\n",
       "      <th>2</th>\n",
       "      <td>2</td>\n",
       "      <td>Mercedes-Benz S 550</td>\n",
       "      <td>87501</td>\n",
       "      <td>Lagos</td>\n",
       "      <td>Foreign Used</td>\n",
       "      <td>4-cylinder(I4)</td>\n",
       "      <td>automatic</td>\n",
       "      <td>petrol</td>\n",
       "      <td>Black</td>\n",
       "      <td>2012</td>\n",
       "      <td>mercedes</td>\n",
       "      <td>11.379417</td>\n",
       "    </tr>\n",
       "  </tbody>\n",
       "</table>\n",
       "</div>"
      ],
      "text/plain": [
       "   id                title  odometer location    isimported          engine  \\\n",
       "0   0  Mercedes-Benz C 300      1234    Abuja          New   4-cylinder(I4)   \n",
       "1   1         Honda Accord     29938    Abuja  Foreign Used  4-cylinder(I4)   \n",
       "2   2  Mercedes-Benz S 550     87501    Lagos  Foreign Used  4-cylinder(I4)   \n",
       "\n",
       "  transmission    fuel  paint  year main_title  log_odometer  \n",
       "0    automatic  petrol  White  2017   mercedes      7.118826  \n",
       "1    automatic  petrol  White  2013      honda     10.306917  \n",
       "2    automatic  petrol  Black  2012   mercedes     11.379417  "
      ]
     },
     "metadata": {},
     "output_type": "display_data"
    }
   ],
   "source": [
    "print(\"Shape of train data *Before Create* :\", origin_train.shape, \"\\n\")\n",
    "print(\"Shape of test data *Before Create* :\", origin_test.shape, \"\\n\")\n",
    "\n",
    "# Log Transformation\n",
    "origin_train[\"log_odometer\"] = np.log1p(origin_train[\"odometer\"])\n",
    "origin_test[\"log_odometer\"] = np.log1p(origin_test[\"odometer\"])\n",
    "\n",
    "print(\"Shape of train data *After Create* :\", origin_train.shape, \"\\n\")\n",
    "print(\"Shape of test data *After Create* :\", origin_test.shape, \"\\n\")\n",
    "\n",
    "display(origin_train.head(3))\n",
    "display(origin_test.head(3))"
   ]
  },
  {
   "cell_type": "code",
   "execution_count": 15,
   "id": "b129d3c4-0ce9-4b18-8d36-1e66d7694ada",
   "metadata": {},
   "outputs": [
    {
     "data": {
      "image/png": "[encoded data removed]",
      "text/plain": [
       "<Figure size 1152x360 with 2 Axes>"
      ]
     },
     "metadata": {
      "needs_background": "light"
     },
     "output_type": "display_data"
    }
   ],
   "source": [
    "fig, axes = plt.subplots(nrows = 1, ncols = 2, figsize = (16, 5))\n",
    "\n",
    "# Original Odometer\n",
    "sns.histplot(origin_train[\"odometer\"], color = \"red\", alpha = 0.5, label = \"Train data\", ax = axes[0])\n",
    "sns.histplot(origin_test[\"odometer\"], alpha = 0.5, label = \"Test data\", ax = axes[0])\n",
    "axes[0].text(\n",
    "    x = 600000,\n",
    "    y = 120,\n",
    "    s = \"Train Data : 왜도 = {:.3f},\\t 첨도 = {:.3f}\".format(origin_train[\"odometer\"].skew(), origin_train[\"odometer\"].kurtosis()),\n",
    "    fontsize = 12)\n",
    "axes[0].text(\n",
    "    x = 600000,\n",
    "    y = 110,\n",
    "    s = \"Test Data : 왜도 = {:.3f},\\t 첨도 = {:.3f}\".format(origin_test[\"odometer\"].skew(), origin_test[\"odometer\"].kurtosis()),\n",
    "    fontsize = 12)\n",
    "axes[0].set_title(\"Histogram of odometer variable\", fontsize = 14)\n",
    "axes[0].legend()\n",
    "\n",
    "# Log Transformation Odometer\n",
    "sns.histplot(origin_train[\"log_odometer\"], color = \"red\", alpha = 0.5, label = \"Train data\", ax = axes[1])\n",
    "sns.histplot(origin_test[\"log_odometer\"], alpha = 0.5, label = \"Test data\", ax = axes[1])\n",
    "axes[1].text(\n",
    "    x = 1,\n",
    "    y = 100,\n",
    "    s = \"Train Data : 왜도 = {:.3f},\\t 첨도 = {:.3f}\".format(origin_train[\"log_odometer\"].skew(), origin_train[\"log_odometer\"].kurtosis()),\n",
    "    fontsize = 12)\n",
    "axes[1].text(\n",
    "    x = 1,\n",
    "    y = 90,\n",
    "    s = \"Test Data : 왜도 = {:.3f},\\t 첨도 = {:.3f}\".format(origin_test[\"log_odometer\"].skew(), origin_test[\"log_odometer\"].kurtosis()),\n",
    "    fontsize = 12)\n",
    "axes[1].set_title(\"Histogram of log transformation odometer variable\", fontsize = 14)\n",
    "axes[1].legend()\n",
    "\n",
    "for index in [0, 1]:\n",
    "    axes[index].set_xlabel(\"\")\n",
    "    axes[index].set_ylabel(\"\")\n",
    "\n",
    "fig.tight_layout()"
   ]
  },
  {
   "cell_type": "markdown",
   "id": "b918eda1-f50a-4a07-970e-503580eafc1c",
   "metadata": {},
   "source": [
    "- 우선 학습 데이터와 평가 데이터의 **odometer** 변수는 왼쪽으로 치우쳐져 있음을 확인할 수 있다.\n",
    "\n",
    "- 학습 데이터의 첨도에 비해 평가 데이터의 첨도가 매우 큼을 확인할 수 있다.\n",
    "\n",
    "- 로그 변환을 수행해도 오른쪽으로 치우쳐질 뿐, 첨도에는 큰 변화가 없는 것을 확인할 수 있다.\n",
    "\n",
    "- 반면, 평가 데이터에서 로그 변환을 수행했을 때는 첨도가 낮아짐을 확인할 수 있다.\n",
    "\n",
    "- **따라서 해당 변수는 단순히 로그 변환을 해주기 보다는 다른 변수와의 관계를 찾아서 이상치를 처리해주는 것이 좋을것으로 판단된다.**"
   ]
  },
  {
   "cell_type": "markdown",
   "id": "b3840a72-6bf7-4646-9d65-11bd65b27d22",
   "metadata": {},
   "source": [
    "## <span style=\"color:Chocolate; font-family:AppleGothic; font-weight:bolder\">2.4 location</span>"
   ]
  },
  {
   "cell_type": "markdown",
   "id": "a794def1-05e6-41aa-8a03-d7561493d9fe",
   "metadata": {},
   "source": [
    "- **Location** 변수는 중고차를 판매하고 있는 나이지리아의 도시를 나타낸다.<br><br>\n",
    "\n",
    "- **Location** 변수를 살펴보면 같은 도시를 나타내는데도 뒤에 `State` 혹은 `공백`이 추가되어 있어 서로 다른 도시로 표시되어 있다.\n",
    "\n",
    "- 또한, 평가 데이터에서는 `Arepo ogun state` 값이 존재하는데, Arepo는 나이지리아 Ogun State에 위치한 인구 밀집 지역을 나타낸다고 한다.\n",
    "\n",
    "- 따라서 해당 값을 ogun으로 변환해주도록 한다."
   ]
  },
  {
   "cell_type": "markdown",
   "id": "75fca36e-2839-428f-86d0-ac5cb1a62ea5",
   "metadata": {},
   "source": [
    "### <span style=\"color:GoldenRod; font-family:AppleGothic; font-weight:bolder\">2.4.1 도시 변환 함수 생성</span>"
   ]
  },
  {
   "cell_type": "code",
   "execution_count": 16,
   "id": "b3b5a2bc-533d-4c04-91d3-2e933133fcf5",
   "metadata": {},
   "outputs": [],
   "source": [
    "# 'location' 변수 변환을 수행해주는 함수 생성\n",
    "def location_transformation(text):\n",
    "    \n",
    "    # 우선 모든 값들을 소문자로 변경\n",
    "    text = text.lower()\n",
    "    \n",
    "    # 공백, state, arepo 세가지를 탐지할 수 있는 컴파일 객체 생성\n",
    "    p = re.compile(\" |arepo|state\")\n",
    "    \n",
    "    # 위의 컴파일 객체를 사용하여 해당하는 문자 제거\n",
    "    text = p.sub(\"\", text)\n",
    "    \n",
    "    return text"
   ]
  },
  {
   "cell_type": "code",
   "execution_count": 17,
   "id": "800c102d-74de-465a-a7c2-d5fb83a2f4b5",
   "metadata": {},
   "outputs": [
    {
     "name": "stdout",
     "output_type": "stream",
     "text": [
      "Shape of train data *Before Create* : (1015, 14) \n",
      "\n",
      "Shape of test data *Before Create* : (436, 12) \n",
      "\n",
      "Shape of train data *After Create* : (1015, 15) \n",
      "\n",
      "Shape of test data *After Create* : (436, 13) \n",
      "\n"
     ]
    },
    {
     "data": {
      "text/html": [
       "<div>\n",
       "<style scoped>\n",
       "    .dataframe tbody tr th:only-of-type {\n",
       "        vertical-align: middle;\n",
       "    }\n",
       "\n",
       "    .dataframe tbody tr th {\n",
       "        vertical-align: top;\n",
       "    }\n",
       "\n",
       "    .dataframe thead th {\n",
       "        text-align: right;\n",
       "    }\n",
       "</style>\n",
       "<table border=\"1\" class=\"dataframe\">\n",
       "  <thead>\n",
       "    <tr style=\"text-align: right;\">\n",
       "      <th></th>\n",
       "      <th>id</th>\n",
       "      <th>title</th>\n",
       "      <th>odometer</th>\n",
       "      <th>location</th>\n",
       "      <th>isimported</th>\n",
       "      <th>engine</th>\n",
       "      <th>transmission</th>\n",
       "      <th>fuel</th>\n",
       "      <th>paint</th>\n",
       "      <th>year</th>\n",
       "      <th>target</th>\n",
       "      <th>log_target</th>\n",
       "      <th>main_title</th>\n",
       "      <th>log_odometer</th>\n",
       "      <th>loc</th>\n",
       "    </tr>\n",
       "  </thead>\n",
       "  <tbody>\n",
       "    <tr>\n",
       "      <th>0</th>\n",
       "      <td>0</td>\n",
       "      <td>Toyota RAV 4</td>\n",
       "      <td>18277</td>\n",
       "      <td>Lagos</td>\n",
       "      <td>Foreign Used</td>\n",
       "      <td>4-cylinder(I4)</td>\n",
       "      <td>automatic</td>\n",
       "      <td>petrol</td>\n",
       "      <td>Red</td>\n",
       "      <td>2016</td>\n",
       "      <td>13665000</td>\n",
       "      <td>16.430348</td>\n",
       "      <td>toyota</td>\n",
       "      <td>9.813453</td>\n",
       "      <td>lagos</td>\n",
       "    </tr>\n",
       "    <tr>\n",
       "      <th>1</th>\n",
       "      <td>1</td>\n",
       "      <td>Toyota Land Cruiser</td>\n",
       "      <td>10</td>\n",
       "      <td>Lagos</td>\n",
       "      <td>New</td>\n",
       "      <td>4-cylinder(I4)</td>\n",
       "      <td>automatic</td>\n",
       "      <td>petrol</td>\n",
       "      <td>Black</td>\n",
       "      <td>2019</td>\n",
       "      <td>33015000</td>\n",
       "      <td>17.312473</td>\n",
       "      <td>toyota</td>\n",
       "      <td>2.397895</td>\n",
       "      <td>lagos</td>\n",
       "    </tr>\n",
       "    <tr>\n",
       "      <th>2</th>\n",
       "      <td>2</td>\n",
       "      <td>Land Rover Range Rover Evoque</td>\n",
       "      <td>83091</td>\n",
       "      <td>Lagos</td>\n",
       "      <td>Foreign Used</td>\n",
       "      <td>6-cylinder(V6)</td>\n",
       "      <td>automatic</td>\n",
       "      <td>petrol</td>\n",
       "      <td>Red</td>\n",
       "      <td>2012</td>\n",
       "      <td>9915000</td>\n",
       "      <td>16.109559</td>\n",
       "      <td>land</td>\n",
       "      <td>11.327704</td>\n",
       "      <td>lagos</td>\n",
       "    </tr>\n",
       "  </tbody>\n",
       "</table>\n",
       "</div>"
      ],
      "text/plain": [
       "   id                          title  odometer location    isimported  \\\n",
       "0   0                   Toyota RAV 4     18277   Lagos   Foreign Used   \n",
       "1   1            Toyota Land Cruiser        10    Lagos          New    \n",
       "2   2  Land Rover Range Rover Evoque     83091    Lagos  Foreign Used   \n",
       "\n",
       "           engine transmission    fuel  paint  year    target  log_target  \\\n",
       "0  4-cylinder(I4)    automatic  petrol    Red  2016  13665000   16.430348   \n",
       "1  4-cylinder(I4)    automatic  petrol  Black  2019  33015000   17.312473   \n",
       "2  6-cylinder(V6)    automatic  petrol    Red  2012   9915000   16.109559   \n",
       "\n",
       "  main_title  log_odometer    loc  \n",
       "0     toyota      9.813453  lagos  \n",
       "1     toyota      2.397895  lagos  \n",
       "2       land     11.327704  lagos  "
      ]
     },
     "metadata": {},
     "output_type": "display_data"
    },
    {
     "data": {
      "text/html": [
       "<div>\n",
       "<style scoped>\n",
       "    .dataframe tbody tr th:only-of-type {\n",
       "        vertical-align: middle;\n",
       "    }\n",
       "\n",
       "    .dataframe tbody tr th {\n",
       "        vertical-align: top;\n",
       "    }\n",
       "\n",
       "    .dataframe thead th {\n",
       "        text-align: right;\n",
       "    }\n",
       "</style>\n",
       "<table border=\"1\" class=\"dataframe\">\n",
       "  <thead>\n",
       "    <tr style=\"text-align: right;\">\n",
       "      <th></th>\n",
       "      <th>id</th>\n",
       "      <th>title</th>\n",
       "      <th>odometer</th>\n",
       "      <th>location</th>\n",
       "      <th>isimported</th>\n",
       "      <th>engine</th>\n",
       "      <th>transmission</th>\n",
       "      <th>fuel</th>\n",
       "      <th>paint</th>\n",
       "      <th>year</th>\n",
       "      <th>main_title</th>\n",
       "      <th>log_odometer</th>\n",
       "      <th>loc</th>\n",
       "    </tr>\n",
       "  </thead>\n",
       "  <tbody>\n",
       "    <tr>\n",
       "      <th>0</th>\n",
       "      <td>0</td>\n",
       "      <td>Mercedes-Benz C 300</td>\n",
       "      <td>1234</td>\n",
       "      <td>Abuja</td>\n",
       "      <td>New</td>\n",
       "      <td>4-cylinder(I4)</td>\n",
       "      <td>automatic</td>\n",
       "      <td>petrol</td>\n",
       "      <td>White</td>\n",
       "      <td>2017</td>\n",
       "      <td>mercedes</td>\n",
       "      <td>7.118826</td>\n",
       "      <td>abuja</td>\n",
       "    </tr>\n",
       "    <tr>\n",
       "      <th>1</th>\n",
       "      <td>1</td>\n",
       "      <td>Honda Accord</td>\n",
       "      <td>29938</td>\n",
       "      <td>Abuja</td>\n",
       "      <td>Foreign Used</td>\n",
       "      <td>4-cylinder(I4)</td>\n",
       "      <td>automatic</td>\n",
       "      <td>petrol</td>\n",
       "      <td>White</td>\n",
       "      <td>2013</td>\n",
       "      <td>honda</td>\n",
       "      <td>10.306917</td>\n",
       "      <td>abuja</td>\n",
       "    </tr>\n",
       "    <tr>\n",
       "      <th>2</th>\n",
       "      <td>2</td>\n",
       "      <td>Mercedes-Benz S 550</td>\n",
       "      <td>87501</td>\n",
       "      <td>Lagos</td>\n",
       "      <td>Foreign Used</td>\n",
       "      <td>4-cylinder(I4)</td>\n",
       "      <td>automatic</td>\n",
       "      <td>petrol</td>\n",
       "      <td>Black</td>\n",
       "      <td>2012</td>\n",
       "      <td>mercedes</td>\n",
       "      <td>11.379417</td>\n",
       "      <td>lagos</td>\n",
       "    </tr>\n",
       "  </tbody>\n",
       "</table>\n",
       "</div>"
      ],
      "text/plain": [
       "   id                title  odometer location    isimported          engine  \\\n",
       "0   0  Mercedes-Benz C 300      1234    Abuja          New   4-cylinder(I4)   \n",
       "1   1         Honda Accord     29938    Abuja  Foreign Used  4-cylinder(I4)   \n",
       "2   2  Mercedes-Benz S 550     87501    Lagos  Foreign Used  4-cylinder(I4)   \n",
       "\n",
       "  transmission    fuel  paint  year main_title  log_odometer    loc  \n",
       "0    automatic  petrol  White  2017   mercedes      7.118826  abuja  \n",
       "1    automatic  petrol  White  2013      honda     10.306917  abuja  \n",
       "2    automatic  petrol  Black  2012   mercedes     11.379417  lagos  "
      ]
     },
     "metadata": {},
     "output_type": "display_data"
    }
   ],
   "source": [
    "print(\"Shape of train data *Before Create* :\", origin_train.shape, \"\\n\")\n",
    "print(\"Shape of test data *Before Create* :\", origin_test.shape, \"\\n\")\n",
    "\n",
    "# 함수 적용\n",
    "origin_train[\"loc\"] = origin_train[\"location\"].apply(location_transformation)\n",
    "origin_test[\"loc\"] = origin_test[\"location\"].apply(location_transformation)\n",
    "\n",
    "print(\"Shape of train data *After Create* :\", origin_train.shape, \"\\n\")\n",
    "print(\"Shape of test data *After Create* :\", origin_test.shape, \"\\n\")\n",
    "\n",
    "display(origin_train.head(3))\n",
    "display(origin_test.head(3))"
   ]
  },
  {
   "cell_type": "code",
   "execution_count": 18,
   "id": "a08dc2d6-9191-41fb-ba24-309c642cc066",
   "metadata": {},
   "outputs": [
    {
     "data": {
      "image/png": "[encoded data removed]",
      "text/plain": [
       "<Figure size 1152x360 with 2 Axes>"
      ]
     },
     "metadata": {
      "needs_background": "light"
     },
     "output_type": "display_data"
    }
   ],
   "source": [
    "fig, axes = plt.subplots(nrows = 1, ncols = 2, figsize = (16, 5))\n",
    "\n",
    "# Train data\n",
    "sns.countplot(origin_train[\"loc\"], ax = axes[0])\n",
    "axes[0].set_title(\"Countplot of location in train data\", fontsize = 14)\n",
    "axes[0].set_xticklabels(labels = np.unique(origin_train[\"loc\"]), fontsize = 14)\n",
    "\n",
    "# Test data\n",
    "sns.countplot(origin_test[\"loc\"], ax = axes[1])\n",
    "axes[1].set_title(\"Countplot of location in test data\", fontsize = 14)\n",
    "axes[1].set_xticklabels(labels = np.unique(origin_test[\"loc\"]), fontsize = 14)\n",
    "\n",
    "for index in [0, 1]:\n",
    "    axes[index].set_xlabel(\"\")\n",
    "    axes[index].set_ylabel(\"\")\n",
    "    \n",
    "    for rect in axes[index].patches:\n",
    "        axes[index].text(rect.get_x() + rect.get_width() / 2, rect.get_height(), rect.get_height(), ha = \"center\", fontsize = 13)\n",
    "    \n",
    "fig.tight_layout()"
   ]
  },
  {
   "cell_type": "markdown",
   "id": "26497bc2-d962-4768-9dfd-966427df1a64",
   "metadata": {},
   "source": [
    "- 학습 데이터에서는 **Abia 도시**가 가장 많이 등장하고, 평가 데이터에서는 **Abuja 도시**가 가장 많이 등장한다.\n",
    "\n",
    "- 학습 데이터와 평가 데이터 모두 대부분 **Abia, Abuja** 도시에서 관측되며, 그 외 도시들은 매우 적게 관측됨을 확인할 수 있다.\n",
    "\n",
    "- **따라서, Abia, Abuja 도시 외에는 기타 도시로 묶어주는 것이 좋을것으로 판단된다.**"
   ]
  },
  {
   "cell_type": "markdown",
   "id": "02e6c26e-d401-4930-b968-3c0d84d28e19",
   "metadata": {},
   "source": [
    "## <span style=\"color:Chocolate; font-family:AppleGothic; font-weight:bolder\">2.5 Isimported</span>"
   ]
  },
  {
   "cell_type": "markdown",
   "id": "7c62c6a9-e7a8-41e1-b8dd-95c2954c3eb3",
   "metadata": {},
   "source": [
    "- **Isimported** 변수는 현지 사용 여부를 나타내는 변수이다."
   ]
  },
  {
   "cell_type": "code",
   "execution_count": 19,
   "id": "8d70d22d-3906-47bc-a3e1-7679ede31cd7",
   "metadata": {},
   "outputs": [],
   "source": [
    "# 'isimported' 변수 오른쪽 공백 제거\n",
    "origin_train[\"isimported\"] = origin_train[\"isimported\"].apply(lambda x: x.rstrip())\n",
    "origin_test[\"isimported\"] = origin_test[\"isimported\"].apply(lambda x: x.rstrip())"
   ]
  },
  {
   "cell_type": "code",
   "execution_count": 20,
   "id": "57a97955-b9e3-4807-bc3a-6c8d807d625e",
   "metadata": {},
   "outputs": [
    {
     "data": {
      "image/png": "[encoded data removed]",
      "text/plain": [
       "<Figure size 1152x360 with 2 Axes>"
      ]
     },
     "metadata": {
      "needs_background": "light"
     },
     "output_type": "display_data"
    }
   ],
   "source": [
    "# 시각화\n",
    "fig, axes = plt.subplots(nrows = 1, ncols = 2, figsize = (16, 5))\n",
    "\n",
    "# Train data\n",
    "sns.countplot(origin_train[\"isimported\"], ax = axes[0])\n",
    "axes[0].set_title(\"Countplot of isimported in train data\", fontsize = 14)\n",
    "\n",
    "# Test data\n",
    "sns.countplot(origin_test[\"isimported\"], ax = axes[1])\n",
    "axes[1].set_title(\"Countplot of isimported in test data\", fontsize = 14)\n",
    "\n",
    "for index in [0, 1]:\n",
    "    axes[index].set_xlabel(\"\")\n",
    "    axes[index].set_ylabel(\"\")\n",
    "    axes[index].set_xticklabels(np.unique(origin_train[\"isimported\"]), fontsize = 13)\n",
    "    \n",
    "    for rect in axes[index].patches:\n",
    "        axes[index].text(rect.get_x() + rect.get_width() / 2, rect.get_height(), rect.get_height(), ha = \"center\", fontsize = 13)\n",
    "\n",
    "fig.tight_layout()"
   ]
  },
  {
   "cell_type": "markdown",
   "id": "bb881124-0584-433a-9e2a-792068cd78a1",
   "metadata": {},
   "source": [
    "- 학습 데이터에서는 **Foreign Used > New > Locally used** 순으로 관측되며, 평가 데이터에서는 **Locally used > New > Foreign Used** 순으로 관측됨을 확인할 수 있다.\n",
    "\n",
    "- 학습 데이터에서 **Locally used** 범주가 매우 적게 관측되기 때문에 만약, 세 범주간에 유의미한 차이가 있다면 오버샘플링 방법도 생각해봐야 할 것으로 판단된다."
   ]
  },
  {
   "cell_type": "markdown",
   "id": "30b95d4a-4f64-4269-a798-5bf0e632e277",
   "metadata": {},
   "source": [
    "## <span style=\"color:Chocolate; font-family:AppleGothic; font-weight:bolder\">2.6 Engine</span>"
   ]
  },
  {
   "cell_type": "markdown",
   "id": "50a16ef9-aa74-4fb0-8a43-713718d2d2cf",
   "metadata": {},
   "source": [
    "- **Engine** 변수는 엔진 종류를 나타내는 변수이다.<br><br>\n",
    "\n",
    "- **Engine** 변수의 값의 경우 `2-cylinder(I2)`와 같은 식으로 입력되어 있으며, 괄호안의 값들로 변경해주도록 한다."
   ]
  },
  {
   "cell_type": "code",
   "execution_count": 21,
   "id": "0ff55d7b-af9a-45cf-8445-6947bfcf8f60",
   "metadata": {},
   "outputs": [],
   "source": [
    "# 'engine' 변수 정제\n",
    "origin_train[\"engine\"] = origin_train[\"engine\"].apply(lambda x: re.search(r\"\\((.+?)\\)\", x).group(1))\n",
    "origin_test[\"engine\"] = origin_test[\"engine\"].apply(lambda x: re.search(r\"\\((.+?)\\)\", x).group(1))"
   ]
  },
  {
   "cell_type": "code",
   "execution_count": 22,
   "id": "7cb8ce56-2051-41f2-b1bb-3ca070fbf413",
   "metadata": {},
   "outputs": [
    {
     "data": {
      "image/png": "[encoded data removed]",
      "text/plain": [
       "<Figure size 1152x360 with 2 Axes>"
      ]
     },
     "metadata": {
      "needs_background": "light"
     },
     "output_type": "display_data"
    }
   ],
   "source": [
    "# 시각화\n",
    "fig, axes = plt.subplots(nrows = 1, ncols = 2, figsize = (16, 5))\n",
    "\n",
    "# Train data\n",
    "sns.countplot(origin_train[\"engine\"], ax = axes[0])\n",
    "axes[0].set_xticklabels(np.unique(origin_train[\"engine\"]), fontsize = 13)\n",
    "axes[0].set_title(\"Countplot of engine in train data\", fontsize = 14)\n",
    "\n",
    "# Test data\n",
    "sns.countplot(origin_test[\"engine\"], ax = axes[1])\n",
    "axes[1].set_xticklabels(np.unique(origin_test[\"engine\"]), fontsize = 13)\n",
    "axes[1].set_title(\"Countplot of engine in test data\", fontsize = 14)\n",
    "\n",
    "for index in [0, 1]:\n",
    "    axes[index].set_xlabel(\"\")\n",
    "    axes[index].set_ylabel(\"\")\n",
    "    \n",
    "    for rect in axes[index].patches:\n",
    "        axes[index].text(rect.get_x() + rect.get_width() / 2, rect.get_height(), rect.get_height(), ha = \"center\", fontsize = 13)\n",
    "\n",
    "fig.tight_layout()"
   ]
  },
  {
   "cell_type": "markdown",
   "id": "438faaa4-faab-4678-9033-d6c62dc69dc1",
   "metadata": {},
   "source": [
    "- 학습 데이터에서는 **H4** 엔진이 가장 많이 등장하고, 평가 데이터에서는 **I2** 엔진이 가장 많이 등장한다.\n",
    "\n",
    "- 학습 데이터와 평가 데이터에서 등장하는 엔진 비율이 서로 상이하므로, 처리해줄 방법을 생각해봐야 할 필요성이 있다."
   ]
  },
  {
   "cell_type": "markdown",
   "id": "a9995ae5-d5cf-4313-b958-19125897f784",
   "metadata": {},
   "source": [
    "## <span style=\"color:Chocolate; font-family:AppleGothic; font-weight:bolder\">2.7 Transmission</span>"
   ]
  },
  {
   "cell_type": "markdown",
   "id": "3458f8a5-5240-4b4c-9f44-634a9ebc2d40",
   "metadata": {},
   "source": [
    "- **Transmission** 변수는 변속기 종류를 나타내는 변수이다.<br><br>\n",
    "\n",
    "- **Transmission** 변수는 따로 처리를 해줘야 하는 작업이 필요하지 않다."
   ]
  },
  {
   "cell_type": "code",
   "execution_count": 23,
   "id": "27d41bd3-5c26-416f-8e84-3c7182797674",
   "metadata": {},
   "outputs": [
    {
     "data": {
      "image/png": "[encoded data removed]",
      "text/plain": [
       "<Figure size 1080x360 with 2 Axes>"
      ]
     },
     "metadata": {
      "needs_background": "light"
     },
     "output_type": "display_data"
    }
   ],
   "source": [
    "# 시각화\n",
    "fig, axes = plt.subplots(nrows = 1, ncols = 2, figsize = (15, 5))\n",
    "\n",
    "# Train data\n",
    "sns.countplot(origin_train[\"transmission\"], ax = axes[0])\n",
    "axes[0].set_title(\"Countplot of transmission in train data\", fontsize = 14)\n",
    "\n",
    "# Test data\n",
    "sns.countplot(origin_test[\"transmission\"], ax = axes[1])\n",
    "axes[1].set_title(\"Countplot of transmission in test data\", fontsize = 14)\n",
    "\n",
    "for index in [0, 1]:\n",
    "    axes[index].set_xlabel(\"\")\n",
    "    axes[index].set_ylabel(\"\")\n",
    "    \n",
    "    for rect in axes[index].patches:\n",
    "        axes[index].text(rect.get_x() + rect.get_width() / 2, rect.get_height(), rect.get_height(), ha = \"center\", fontsize = 13)\n",
    "\n",
    "fig.tight_layout()"
   ]
  },
  {
   "cell_type": "markdown",
   "id": "65186efc-3bfc-4b22-9724-c63871c09c3f",
   "metadata": {},
   "source": [
    "- 학습 데이터와 평가 데이터 모두 변속기 종류는 **자동**이 많음을 확인할 수 있다.\n",
    "\n",
    "- 두 범주간의 유의미한 차이가 발견되지 않는다면 삭제해주도록 하고, 만약 차이가 있다면 오버샘플링을 해주는 것이 적절하다고 생각된다."
   ]
  },
  {
   "cell_type": "markdown",
   "id": "20b12c7d-519c-4330-8b79-04827d172dec",
   "metadata": {},
   "source": [
    "## <span style=\"color:Chocolate; font-family:AppleGothic; font-weight:bolder\">2.8 Fuel</span>"
   ]
  },
  {
   "cell_type": "markdown",
   "id": "7c692c3a-8f1c-45f4-9670-f2ce28fe334c",
   "metadata": {},
   "source": [
    "- **Fuel** 변수는 연료의 종류를 나타내는 변수이다.<br><br>\n",
    "\n",
    "- **Fuel** 변수도 따로 전처리 작업이 필요하지 않다."
   ]
  },
  {
   "cell_type": "code",
   "execution_count": 24,
   "id": "0b847228-1cde-47f6-a56a-2e0fff3a73e3",
   "metadata": {},
   "outputs": [
    {
     "data": {
      "image/png": "[encoded data removed]",
      "text/plain": [
       "<Figure size 1080x360 with 2 Axes>"
      ]
     },
     "metadata": {
      "needs_background": "light"
     },
     "output_type": "display_data"
    }
   ],
   "source": [
    "# 시각화\n",
    "fig, axes = plt.subplots(nrows = 1, ncols = 2, figsize = (15, 5))\n",
    "\n",
    "# Train data\n",
    "sns.countplot(origin_train[\"fuel\"], ax = axes[0])\n",
    "axes[0].set_title(\"Countplot of fuel in train data\", fontsize = 14)\n",
    "\n",
    "# Test data\n",
    "sns.countplot(origin_test[\"fuel\"], ax = axes[1])\n",
    "axes[1].set_title(\"Countplot of fuel in test data\", fontsize = 14)\n",
    "\n",
    "for index in [0, 1]:\n",
    "    axes[index].set_xlabel(\"\")\n",
    "    axes[index].set_ylabel(\"\")\n",
    "    \n",
    "    for rect in axes[index].patches:\n",
    "        axes[index].text(rect.get_x() + rect.get_width() / 2, rect.get_height(), rect.get_height(), ha = \"center\", fontsize = 13)\n",
    "\n",
    "fig.tight_layout()"
   ]
  },
  {
   "cell_type": "markdown",
   "id": "e731e200-b8ab-4557-96db-98d6530911c2",
   "metadata": {},
   "source": [
    "- 학습 데이터와 평가 데이터 모두 **petrol** 종류가 많음을 확인할 수 있다."
   ]
  },
  {
   "cell_type": "markdown",
   "id": "270961f9-efc7-4fcf-b6d2-4a5a23b68684",
   "metadata": {},
   "source": [
    "## <span style=\"color:Chocolate; font-family:AppleGothic; font-weight:bolder\">2.9 Paint</span>"
   ]
  },
  {
   "cell_type": "markdown",
   "id": "46a83737-5d3a-4f1f-aa3f-be4fae2b6131",
   "metadata": {},
   "source": [
    "- **Paint** 변수는 차량의 페인트 색상을 나타내는 변수이다."
   ]
  },
  {
   "cell_type": "code",
   "execution_count": 25,
   "id": "ed50e3dd-932e-44be-ab07-63ff897c8e69",
   "metadata": {},
   "outputs": [
    {
     "name": "stdout",
     "output_type": "stream",
     "text": [
      "[' Black' ' Black/Red' 'Ash' 'Ash and black' 'BLACK' 'Beige' 'Black'\n",
      " 'Black ' 'Black and silver' 'Black sand pearl' 'Black.' 'Blue' 'Blue '\n",
      " 'Brown' 'Cream' 'Cream ' 'DARK GREY' 'Dark Ash' 'Dark Blue' 'Dark Green'\n",
      " 'Dark Grey' 'Dark ash' 'Dark blue ' 'Dark gray' 'Dark silver '\n",
      " 'Deep Blue' 'Deep blue' 'GOLD' 'Gery' 'Gold' 'Gold ' 'Gray' 'Gray '\n",
      " 'Green' 'Green ' 'Grey' 'Grey ' 'Ink blue' 'Light Gold' 'Light blue'\n",
      " 'Light silver ' 'Magnetic Gray' 'Magnetic Gray Metallic' 'Maroon'\n",
      " 'Midnight Black Metal' 'Milk' 'Navy blue' 'Off white' 'Off white l'\n",
      " 'Pale brown' 'Purple' 'Red' 'Redl' 'SILVER' 'Silver' 'Silver '\n",
      " 'Silver/grey' 'Sky blue' 'Skye blue' 'Sliver' 'Super White' 'WHITE'\n",
      " 'WINE' 'Whine ' 'White' 'White ' 'White orchild pearl' 'Wine' 'Yellow'\n",
      " 'blue' 'green' 'orange' 'red' 'white' 'white-blue' 'yellow']\n"
     ]
    }
   ],
   "source": [
    "# 학습 데이터\n",
    "print(np.unique(origin_train[\"paint\"]))"
   ]
  },
  {
   "cell_type": "code",
   "execution_count": 26,
   "id": "218404ab-5fc8-471e-901d-ec233c026e80",
   "metadata": {},
   "outputs": [
    {
     "name": "stdout",
     "output_type": "stream",
     "text": [
      "['  Brown' 'Ash' 'BLACK' 'Beige' 'Blac' 'Black' 'Black ' 'Blue' 'Blue '\n",
      " 'Brown' 'Classic Silver Met(1F7)' 'Cream' 'Cream ' 'Dark Ash' 'Dark Blue'\n",
      " 'Dark Green' 'Dark Grey' 'Dark blue ' 'GOLD' 'Gold' 'Gold ' 'Golf' 'Gray'\n",
      " 'Green' 'Green ' 'Grey' 'Grey ' 'Grey and black' 'Indigo ink pearl'\n",
      " 'Light Grey' 'Maroon' 'Mint green' 'Navy blue' 'Red' 'Silver' 'Silver '\n",
      " 'Sliver' 'Sliver ' 'White' 'White and green' 'Wine' 'Yellow' 'black'\n",
      " 'blue' 'green' 'white']\n"
     ]
    }
   ],
   "source": [
    "# 평가 데이터\n",
    "print(np.unique(origin_test[\"paint\"]))"
   ]
  },
  {
   "cell_type": "markdown",
   "id": "ecfb2d43-1598-4d0b-a692-b56b5510e2fc",
   "metadata": {},
   "source": [
    "- 학습 데이터와 평가 데이터의 **paint** 변수의 고유값을 확인햐보면 매우 많은 색상이 존재함을 확인할 수 있다.\n",
    "\n",
    "- 하지만 자세히 보면 같은 색상인데도 오타 혹은 공백 등으로 잘못 기입되어 있어서 서로 다른 색상으로 분류되어 있다.\n",
    "\n",
    "- **Paint** 변수는 아래의 과정에서 예측 변수와 살펴보며 정제해주도록 한다."
   ]
  },
  {
   "cell_type": "markdown",
   "id": "34bcee57-ddac-479d-a528-fd43895ad6a1",
   "metadata": {},
   "source": [
    "## <span style=\"color:Chocolate; font-family:AppleGothic; font-weight:bolder\">2.10 Year</span>"
   ]
  },
  {
   "cell_type": "code",
   "execution_count": 28,
   "id": "52ebabed-4d8d-4a93-a909-fda7a102aaf5",
   "metadata": {},
   "outputs": [
    {
     "name": "stdout",
     "output_type": "stream",
     "text": [
      "[1217 1218 1980 1982 1985 1991 1994 1995 1996 1997 1998 1999 2000 2001\n",
      " 2002 2003 2004 2005 2006 2007 2008 2009 2010 2011 2012 2013 2014 2015\n",
      " 2016 2017 2018 2019 2020]\n"
     ]
    }
   ],
   "source": [
    "# 학습 데이터\n",
    "print(np.unique(origin_train[\"year\"]))"
   ]
  },
  {
   "cell_type": "code",
   "execution_count": 29,
   "id": "9b4cf34f-4eb5-4fbe-80ea-c873a5487487",
   "metadata": {},
   "outputs": [
    {
     "name": "stdout",
     "output_type": "stream",
     "text": [
      "[1324 1726 1987 1993 1994 1996 1997 1998 1999 2000 2001 2002 2003 2004\n",
      " 2005 2006 2007 2008 2009 2010 2011 2012 2013 2014 2015 2016 2017 2018\n",
      " 2019 2020 2626]\n"
     ]
    }
   ],
   "source": [
    "# 평가 데이터\n",
    "print(np.unique(origin_test[\"year\"]))"
   ]
  },
  {
   "cell_type": "markdown",
   "id": "e2d09217-afa3-49f9-ab92-5be30e340adb",
   "metadata": {},
   "source": [
    "- 위의 결과를 보면 학습 데이터에는 1217, 1218년으로 기입된 관측치가 존재하고, 평가 데이터에는 1324, 1726, 2026으로 기입된 관측치가 존재한다.\n",
    "\n",
    "- 해당 관측치들은 이상치로 판단된다.\n",
    "\n",
    "- **Year** 변수도 예측 변수와 살펴보며 정제해주도록 하고, 정제 후에 현재년도(2022년)에서 해당 값을 빼주도록 한다."
   ]
  },
  {
   "cell_type": "markdown",
   "id": "15d1426f-553a-4f6d-b8bf-a43c3dd452ac",
   "metadata": {},
   "source": [
    "# <span style=\"color:Brown; font-family:AppleGothic; font-weight:bolder\">3. Data EDA - 2</span>"
   ]
  },
  {
   "cell_type": "markdown",
   "id": "9e59ebe5-7d20-4790-8f03-79351aa7face",
   "metadata": {},
   "source": [
    "---"
   ]
  },
  {
   "cell_type": "markdown",
   "id": "982c80ab-86ad-4d3b-8b4e-6676cf5562af",
   "metadata": {},
   "source": [
    "- 위의 [Data EDA - 1](#2.-Data-EDA---1)에서는 간단하게 단일 변수가 어떻게 기입되어 있는지 확인해보고 정제해주는 과정을 진행하였다.\n",
    "\n",
    "- 해당 과정에서는 예측 변수와의 관계를 통해서 좀 더 자세히 변수를 확인해보도록 한다."
   ]
  },
  {
   "cell_type": "markdown",
   "id": "5d16708d-0c02-4c84-9fd9-82bf85a4bae8",
   "metadata": {},
   "source": [
    "## <span style=\"color:Chocolate; font-family:AppleGothic; font-weight:bolder\">3.1 Main Title & Target</span>"
   ]
  },
  {
   "cell_type": "code",
   "execution_count": 76,
   "id": "4a6e2718-0367-4f07-82de-410f7f6e678e",
   "metadata": {},
   "outputs": [
    {
     "data": {
      "text/plain": [
       "39"
      ]
     },
     "execution_count": 76,
     "metadata": {},
     "output_type": "execute_result"
    }
   ],
   "source": [
    "len(origin_train[\"main_title\"].unique())"
   ]
  },
  {
   "cell_type": "code",
   "execution_count": 77,
   "id": "d1f61ae6-d49d-4d45-a2be-b8e68aa4a23e",
   "metadata": {},
   "outputs": [
    {
     "data": {
      "text/plain": [
       "<AxesSubplot:xlabel='main_title', ylabel='log_target'>"
      ]
     },
     "execution_count": 77,
     "metadata": {},
     "output_type": "execute_result"
    },
    {
     "data": {
      "image/png": "[encoded data removed]",
      "text/plain": [
       "<Figure size 1440x360 with 1 Axes>"
      ]
     },
     "metadata": {
      "needs_background": "light"
     },
     "output_type": "display_data"
    }
   ],
   "source": [
    "plt.figure(figsize = (20, 5))\n",
    "\n",
    "sns.boxplot(x = \"main_title\", y = \"log_target\", data = origin_train)"
   ]
  },
  {
   "cell_type": "code",
   "execution_count": null,
   "id": "58d4a7ce-4dd7-4b21-8a00-295ec26889a6",
   "metadata": {},
   "outputs": [],
   "source": [
    "## <sp>"
   ]
  },
  {
   "cell_type": "code",
   "execution_count": 73,
   "id": "7391a8d7-4238-4a5e-96d0-559a08b29668",
   "metadata": {},
   "outputs": [
    {
     "data": {
      "text/plain": [
       "array(['toyota', 'land', 'lexus', 'pontiac', 'ford', 'honda', 'volvo',\n",
       "       'bmw', 'infiniti', 'mercedes', 'hyundai', 'jaguar', 'mitsubishi',\n",
       "       'nissan', 'mack', 'chevrolet', 'mazda', 'lincoln', 'kia',\n",
       "       'volkswagen', 'acura', 'daf', 'man', 'isuzu', 'ivm', 'porsche',\n",
       "       'mini', 'dodge', 'gmc', 'iveco', 'scania', 'gac', 'peugeot',\n",
       "       'rolls', 'jeep', 'alpina', 'bentley', 'jmc', 'audi'], dtype=object)"
      ]
     },
     "execution_count": 73,
     "metadata": {},
     "output_type": "execute_result"
    }
   ],
   "source": [
    "origin_train[\"main_title\"].unique()"
   ]
  },
  {
   "cell_type": "code",
   "execution_count": 50,
   "id": "25c73ea0-1fc4-4085-ae5e-ef9a2f139f04",
   "metadata": {},
   "outputs": [
    {
     "data": {
      "text/html": [
       "<div>\n",
       "<style scoped>\n",
       "    .dataframe tbody tr th:only-of-type {\n",
       "        vertical-align: middle;\n",
       "    }\n",
       "\n",
       "    .dataframe tbody tr th {\n",
       "        vertical-align: top;\n",
       "    }\n",
       "\n",
       "    .dataframe thead th {\n",
       "        text-align: right;\n",
       "    }\n",
       "</style>\n",
       "<table border=\"1\" class=\"dataframe\">\n",
       "  <thead>\n",
       "    <tr style=\"text-align: right;\">\n",
       "      <th></th>\n",
       "      <th>id</th>\n",
       "      <th>title</th>\n",
       "      <th>odometer</th>\n",
       "      <th>location</th>\n",
       "      <th>isimported</th>\n",
       "      <th>engine</th>\n",
       "      <th>transmission</th>\n",
       "      <th>fuel</th>\n",
       "      <th>paint</th>\n",
       "      <th>year</th>\n",
       "      <th>main_title</th>\n",
       "      <th>log_odometer</th>\n",
       "      <th>loc</th>\n",
       "    </tr>\n",
       "  </thead>\n",
       "  <tbody>\n",
       "    <tr>\n",
       "      <th>406</th>\n",
       "      <td>406</td>\n",
       "      <td>Mercedes-Benz DUMP TRUCK</td>\n",
       "      <td>0</td>\n",
       "      <td>Lagos</td>\n",
       "      <td>Locally used</td>\n",
       "      <td>V8</td>\n",
       "      <td>manual</td>\n",
       "      <td>diesel</td>\n",
       "      <td>white</td>\n",
       "      <td>2626</td>\n",
       "      <td>mercedes</td>\n",
       "      <td>0.0</td>\n",
       "      <td>lagos</td>\n",
       "    </tr>\n",
       "  </tbody>\n",
       "</table>\n",
       "</div>"
      ],
      "text/plain": [
       "      id                     title  odometer location    isimported engine  \\\n",
       "406  406  Mercedes-Benz DUMP TRUCK         0    Lagos  Locally used     V8   \n",
       "\n",
       "    transmission    fuel  paint  year main_title  log_odometer    loc  \n",
       "406       manual  diesel  white  2626   mercedes           0.0  lagos  "
      ]
     },
     "execution_count": 50,
     "metadata": {},
     "output_type": "execute_result"
    }
   ],
   "source": [
    "origin_test[origin_test[\"year\"] == 2626]"
   ]
  },
  {
   "cell_type": "code",
   "execution_count": 70,
   "id": "43646465-baf8-46c8-8d69-82883ca6025f",
   "metadata": {},
   "outputs": [
    {
     "data": {
      "text/plain": [
       "array([2016])"
      ]
     },
     "execution_count": 70,
     "metadata": {},
     "output_type": "execute_result"
    }
   ],
   "source": [
    "origin_train[origin_train[\"main_title\"] == \"mercedes\"][\"year\"].value_counts().head(1).index.values"
   ]
  },
  {
   "cell_type": "code",
   "execution_count": 42,
   "id": "32bbb446-fe23-487b-9549-88fa5050e8c9",
   "metadata": {},
   "outputs": [
    {
     "data": {
      "text/plain": [
       "array([1217, 1218, 1998, 2001, 2005, 2006, 2007, 2008, 2009, 2010, 2011,\n",
       "       2012, 2013, 2014, 2015, 2016, 2017, 2018, 2019, 2020])"
      ]
     },
     "execution_count": 42,
     "metadata": {},
     "output_type": "execute_result"
    }
   ],
   "source": [
    "np.unique(origin_train[origin_train[\"main_title\"] == \"mercedes\"][\"year\"])"
   ]
  },
  {
   "cell_type": "code",
   "execution_count": 51,
   "id": "bd1edc6c-0df7-4d9b-a8ad-4d8a7c42bc99",
   "metadata": {},
   "outputs": [
    {
     "data": {
      "text/plain": [
       "Black        292\n",
       "White        115\n",
       "Silver       103\n",
       "Grey          84\n",
       "Blue          70\n",
       "Red           53\n",
       "Dark Grey     47\n",
       "Gold          37\n",
       "white         26\n",
       "Green         18\n",
       "Gray          17\n",
       "Brown         16\n",
       "Black         15\n",
       "Dark Blue     14\n",
       "Wine           8\n",
       "Silver         5\n",
       "Sliver         5\n",
       "blue           5\n",
       "red            5\n",
       "Grey           3\n",
       "Name: paint, dtype: int64"
      ]
     },
     "execution_count": 51,
     "metadata": {},
     "output_type": "execute_result"
    }
   ],
   "source": [
    "origin_train[\"paint\"].value_counts().head(20)"
   ]
  },
  {
   "cell_type": "code",
   "execution_count": 125,
   "id": "d3e9b7c0-324a-4947-b472-3c57deb14f2a",
   "metadata": {},
   "outputs": [
    {
     "data": {
      "text/plain": [
       "array(['Foreign Used', 'Locally used', 'New '], dtype=object)"
      ]
     },
     "execution_count": 125,
     "metadata": {},
     "output_type": "execute_result"
    }
   ],
   "source": [
    "np.unique(origin_train[\"isimported\"])"
   ]
  },
  {
   "cell_type": "code",
   "execution_count": 134,
   "id": "b6639186-780f-4711-9819-018c7fa6bc42",
   "metadata": {},
   "outputs": [
    {
     "data": {
      "text/plain": [
       "array(['ash', 'ashandblack', 'beige', 'black', 'black.', 'black/red',\n",
       "       'blackandsilver', 'blacksandpearl', 'blue', 'brown', 'cream',\n",
       "       'darkash', 'darkblue', 'darkgray', 'darkgreen', 'darkgrey',\n",
       "       'darksilver', 'deepblue', 'gery', 'gold', 'gray', 'green', 'grey',\n",
       "       'inkblue', 'lightblue', 'lightgold', 'lightsilver', 'magneticgray',\n",
       "       'magneticgraymetallic', 'maroon', 'midnightblackmetal', 'milk',\n",
       "       'navyblue', 'offwhite', 'offwhitel', 'orange', 'palebrown',\n",
       "       'purple', 'red', 'redl', 'silver', 'silver/grey', 'skyblue',\n",
       "       'skyeblue', 'sliver', 'superwhite', 'whine', 'white', 'white-blue',\n",
       "       'whiteorchildpearl', 'wine', 'yellow'], dtype=object)"
      ]
     },
     "execution_count": 134,
     "metadata": {},
     "output_type": "execute_result"
    }
   ],
   "source": [
    "np.unique(origin_train[\"paint\"].apply(lambda x: x.replace(\" \", \"\").lower()))"
   ]
  },
  {
   "cell_type": "code",
   "execution_count": 37,
   "id": "ebc67e3d-e0df-48c2-b396-ae626b7c3735",
   "metadata": {},
   "outputs": [
    {
     "data": {
      "text/plain": [
       "array([2016, 2019, 2012, 2007, 2010, 2004, 2008, 2018, 2009, 2013, 1996,\n",
       "       2014, 2002, 2006, 2017, 1998, 2011, 2005, 2000, 2015, 2001, 1995,\n",
       "       2003, 1999, 1985, 2020, 1994, 1991, 1218, 1982, 1997, 1217, 1980])"
      ]
     },
     "execution_count": 37,
     "metadata": {},
     "output_type": "execute_result"
    }
   ],
   "source": [
    "origin_train[\"year\"].unique()"
   ]
  },
  {
   "cell_type": "code",
   "execution_count": 38,
   "id": "9e82aefa-6d90-4bb9-b1e6-9ed432122255",
   "metadata": {},
   "outputs": [
    {
     "data": {
      "text/plain": [
       "array([2017, 2013, 2012, 2001, 2000, 2003, 2006, 2020, 2016, 2011, 2010,\n",
       "       2008, 2007, 1997, 2009, 2004, 2014, 2002, 1998, 2018, 2019, 2015,\n",
       "       1993, 2005, 1996, 1994, 1999, 1987, 1324, 2626, 1726])"
      ]
     },
     "execution_count": 38,
     "metadata": {},
     "output_type": "execute_result"
    }
   ],
   "source": [
    "origin_test[\"year\"].unique()"
   ]
  },
  {
   "cell_type": "code",
   "execution_count": 40,
   "id": "6b824981-96b9-4367-b089-fbf5ed258fd5",
   "metadata": {},
   "outputs": [
    {
     "data": {
      "text/plain": [
       "<AxesSubplot:xlabel='year', ylabel='log_target'>"
      ]
     },
     "execution_count": 40,
     "metadata": {},
     "output_type": "execute_result"
    },
    {
     "data": {
      "image/png": "[encoded data removed]",
      "text/plain": [
       "<Figure size 1296x360 with 1 Axes>"
      ]
     },
     "metadata": {
      "needs_background": "light"
     },
     "output_type": "display_data"
    }
   ],
   "source": [
    "plt.figure(figsize = (18, 5))\n",
    "sns.boxplot(x = \"year\", y = \"log_target\", data = origin_train)"
   ]
  },
  {
   "cell_type": "code",
   "execution_count": 42,
   "id": "4236fd83-d9ca-4cdc-a4b2-1f55a27131bd",
   "metadata": {},
   "outputs": [
    {
     "data": {
      "text/plain": [
       "1217     1\n",
       "1218     1\n",
       "1980     1\n",
       "1982     1\n",
       "1985     1\n",
       "1991     2\n",
       "1994     3\n",
       "1995     3\n",
       "1996     7\n",
       "1997     1\n",
       "1998     5\n",
       "1999    10\n",
       "2000    12\n",
       "2001    21\n",
       "2002    17\n",
       "2003    34\n",
       "2004    36\n",
       "2005    44\n",
       "2006    56\n",
       "2007    68\n",
       "2008    82\n",
       "2009    57\n",
       "2010    71\n",
       "2011    59\n",
       "2012    56\n",
       "2013    73\n",
       "2014    68\n",
       "2015    45\n",
       "2016    70\n",
       "2017    29\n",
       "2018    47\n",
       "2019    17\n",
       "2020    17\n",
       "Name: year, dtype: int64"
      ]
     },
     "execution_count": 42,
     "metadata": {},
     "output_type": "execute_result"
    }
   ],
   "source": [
    "origin_train[\"year\"].value_counts().sort_index()"
   ]
  },
  {
   "cell_type": "code",
   "execution_count": 43,
   "id": "68b8c6dd-9789-4c84-90d4-ef8630da768a",
   "metadata": {},
   "outputs": [
    {
     "data": {
      "text/plain": [
       "1324     1\n",
       "1726     1\n",
       "1987     1\n",
       "1993     1\n",
       "1994     1\n",
       "1996     1\n",
       "1997     3\n",
       "1998     4\n",
       "1999     3\n",
       "2000     7\n",
       "2001    11\n",
       "2002     9\n",
       "2003    17\n",
       "2004    20\n",
       "2005    17\n",
       "2006    25\n",
       "2007    25\n",
       "2008    23\n",
       "2009    32\n",
       "2010    25\n",
       "2011    36\n",
       "2012    24\n",
       "2013    23\n",
       "2014    20\n",
       "2015    28\n",
       "2016    21\n",
       "2017    16\n",
       "2018    18\n",
       "2019    14\n",
       "2020     8\n",
       "2626     1\n",
       "Name: year, dtype: int64"
      ]
     },
     "execution_count": 43,
     "metadata": {},
     "output_type": "execute_result"
    }
   ],
   "source": [
    "origin_test[\"year\"].value_counts().sort_index()"
   ]
  },
  {
   "cell_type": "code",
   "execution_count": null,
   "id": "b727697e-c920-4644-9f73-d8ef7e220086",
   "metadata": {},
   "outputs": [],
   "source": []
  }
 ],
 "metadata": {
  "kernelspec": {
   "display_name": "Python 3 (ipykernel)",
   "language": "python",
   "name": "python3"
  },
  "language_info": {
   "codemirror_mode": {
    "name": "ipython",
    "version": 3
   },
   "file_extension": ".py",
   "mimetype": "text/x-python",
   "name": "python",
   "nbconvert_exporter": "python",
   "pygments_lexer": "ipython3",
   "version": "3.8.12"
  }
 },
 "nbformat": 4,
 "nbformat_minor": 5
}
